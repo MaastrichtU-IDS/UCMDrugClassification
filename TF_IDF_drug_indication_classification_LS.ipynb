{
  "nbformat": 4,
  "nbformat_minor": 0,
  "metadata": {
    "colab": {
      "name": "TF IDF drug indication classification LS",
      "provenance": [],
      "collapsed_sections": []
    },
    "kernelspec": {
      "name": "python3",
      "display_name": "Python 3"
    },
    "language_info": {
      "name": "python"
    }
  },
  "cells": [
    {
      "cell_type": "code",
      "metadata": {
        "id": "1OkaPV_ZNkoT"
      },
      "source": [
        "# This cell imports pandas into the workbook\n",
        "# https://pandas.pydata.org/pandas-docs/stable/user_guide/10min.html\n",
        "\n",
        "import pandas as pd\n",
        "\n",
        "# This command allows the truncation of comment text\n",
        "DISPLAY_ALL_TEXT = False\n",
        "\n",
        "#this sets the max length of a comment until it is truncated\n",
        "pd.set_option(\"display.max_colwidth\", 0 if DISPLAY_ALL_TEXT else 50)\n"
      ],
      "execution_count": 2,
      "outputs": []
    },
    {
      "cell_type": "markdown",
      "metadata": {
        "id": "lEe0RxaJVczB"
      },
      "source": [
        "#File Import Technique https://www.geeksforgeeks.org/ways-to-import-csv-files-in-google-colab/\n",
        "\n",
        "!pip install -U -q PyDrive\n",
        "  \n",
        "from pydrive.auth import GoogleAuth\n",
        "from pydrive.drive import GoogleDrive\n",
        "from google.colab import auth\n",
        "from oauth2client.client import GoogleCredentials\n",
        "  \n",
        "  \n",
        "# Authenticate and create the PyDrive client.\n",
        "auth.authenticate_user()\n",
        "gauth = GoogleAuth()\n",
        "gauth.credentials = GoogleCredentials.get_application_default()\n",
        "drive = GoogleDrive(gauth)"
      ]
    },
    {
      "cell_type": "code",
      "metadata": {
        "id": "YJd8zC5H0xtx"
      },
      "source": [
        "!pip install -U -q PyDrive\n",
        "  \n",
        "from pydrive.auth import GoogleAuth\n",
        "from pydrive.drive import GoogleDrive\n",
        "from google.colab import auth\n",
        "from oauth2client.client import GoogleCredentials\n",
        "  \n",
        "  \n",
        "# Authenticate and create the PyDrive client.\n",
        "auth.authenticate_user()\n",
        "gauth = GoogleAuth()\n",
        "gauth.credentials = GoogleCredentials.get_application_default()\n",
        "drive = GoogleDrive(gauth)"
      ],
      "execution_count": 3,
      "outputs": []
    },
    {
      "cell_type": "code",
      "metadata": {
        "id": "3v5YH_wlXmGC",
        "colab": {
          "base_uri": "https://localhost:8080/"
        },
        "outputId": "f19460da-ca50-47f5-b62c-445157d3ed1b"
      },
      "source": [
        "link = 'https://drive.google.com/file/d/12sV8ZU3Ly1R1QiZoF0q_KXb_UiLPSzFU/view?usp=sharing'\n",
        "  \n",
        "import pandas as pd\n",
        "  \n",
        "# to get the id part of the file\n",
        "id = link.split(\"/\")[-2]\n",
        "  \n",
        "downloaded = drive.CreateFile({'id':id})\n",
        "downloaded.GetContentFile('xclara.csv')  \n",
        "  \n",
        "df = pd.read_csv('xclara.csv')\n",
        "print(df)"
      ],
      "execution_count": 4,
      "outputs": [
        {
          "output_type": "stream",
          "text": [
            "       Unnamed: 0  level_0  ...           Section         disease\n",
            "0               0        0  ...  Contraindication   paraganglioma\n",
            "1               1        1  ...  Contraindication        syndrome\n",
            "2               2        2  ...  Contraindication       hay fever\n",
            "3               3        3  ...  Contraindication   paraganglioma\n",
            "4               4        4  ...  Contraindication        syndrome\n",
            "...           ...      ...  ...               ...             ...\n",
            "54035       54035    54037  ...        Indication  hypothyroidism\n",
            "54036       54036    54038  ...        Indication  hypothyroidism\n",
            "54037       54037    54039  ...        Indication  hypothyroidism\n",
            "54038       54038    54040  ...        Indication  hypothyroidism\n",
            "54039       54039    54041  ...        Indication  hypothyroidism\n",
            "\n",
            "[54040 rows x 16 columns]\n"
          ],
          "name": "stdout"
        }
      ]
    },
    {
      "cell_type": "code",
      "metadata": {
        "colab": {
          "base_uri": "https://localhost:8080/"
        },
        "id": "5F3mSBm0KDxr",
        "outputId": "8fb3f739-82bc-4cfe-e73b-0f6cbbef8248"
      },
      "source": [
        "link = 'https://drive.google.com/file/d/1htWTCmcCBma73fTVWC-EavJSD1YgtsAx/view?usp=sharing'\n",
        "  \n",
        "import pandas as pd\n",
        "  \n",
        "# to get the id part of the file\n",
        "id = link.split(\"/\")[-2]\n",
        "  \n",
        "downloaded = drive.CreateFile({'id':id})\n",
        "downloaded.GetContentFile('xclara.csv')  \n",
        "  \n",
        "df_test = pd.read_csv('xclara.csv')\n",
        "print(df_test)"
      ],
      "execution_count": 5,
      "outputs": [
        {
          "output_type": "stream",
          "text": [
            "     Unnamed: 0    DB_ID  ...            Section                  label\n",
            "0             0  DB00657  ...        Indications  Indication: Treatment\n",
            "1             1  DB00401  ...        Indications  Indication: Treatment\n",
            "2             2  DB00612  ...        Indications  Indication: Treatment\n",
            "3             3  DB00960  ...        Indications  Indication: Treatment\n",
            "4             4  DB00876  ...        Indications  Indication: Treatment\n",
            "..          ...      ...  ...                ...                    ...\n",
            "276         276  DB00521  ...  Contraindications       Contraindication\n",
            "277         277  DB01057  ...  Contraindications       Contraindication\n",
            "278         278  DB01142  ...  Contraindications       Contraindication\n",
            "279         279  DB00591  ...  Contraindications       Contraindication\n",
            "280         280  DB10345  ...  Contraindications       Contraindication\n",
            "\n",
            "[281 rows x 10 columns]\n"
          ],
          "name": "stdout"
        }
      ]
    },
    {
      "cell_type": "code",
      "metadata": {
        "id": "qGEOVa1YNvkY",
        "colab": {
          "base_uri": "https://localhost:8080/"
        },
        "outputId": "fc4388a7-ec3f-40cb-dc22-a7f623609b32"
      },
      "source": [
        "# spaCy is an open source natural language processing library\n",
        "# Download the spaCy english model\n",
        "! python -m spacy download en_core_web_sm"
      ],
      "execution_count": 6,
      "outputs": [
        {
          "output_type": "stream",
          "text": [
            "Requirement already satisfied: en_core_web_sm==2.2.5 from https://github.com/explosion/spacy-models/releases/download/en_core_web_sm-2.2.5/en_core_web_sm-2.2.5.tar.gz#egg=en_core_web_sm==2.2.5 in /usr/local/lib/python3.7/dist-packages (2.2.5)\n",
            "Requirement already satisfied: spacy>=2.2.2 in /usr/local/lib/python3.7/dist-packages (from en_core_web_sm==2.2.5) (2.2.4)\n",
            "Requirement already satisfied: wasabi<1.1.0,>=0.4.0 in /usr/local/lib/python3.7/dist-packages (from spacy>=2.2.2->en_core_web_sm==2.2.5) (0.8.2)\n",
            "Requirement already satisfied: requests<3.0.0,>=2.13.0 in /usr/local/lib/python3.7/dist-packages (from spacy>=2.2.2->en_core_web_sm==2.2.5) (2.23.0)\n",
            "Requirement already satisfied: catalogue<1.1.0,>=0.0.7 in /usr/local/lib/python3.7/dist-packages (from spacy>=2.2.2->en_core_web_sm==2.2.5) (1.0.0)\n",
            "Requirement already satisfied: numpy>=1.15.0 in /usr/local/lib/python3.7/dist-packages (from spacy>=2.2.2->en_core_web_sm==2.2.5) (1.19.5)\n",
            "Requirement already satisfied: preshed<3.1.0,>=3.0.2 in /usr/local/lib/python3.7/dist-packages (from spacy>=2.2.2->en_core_web_sm==2.2.5) (3.0.5)\n",
            "Requirement already satisfied: plac<1.2.0,>=0.9.6 in /usr/local/lib/python3.7/dist-packages (from spacy>=2.2.2->en_core_web_sm==2.2.5) (1.1.3)\n",
            "Requirement already satisfied: tqdm<5.0.0,>=4.38.0 in /usr/local/lib/python3.7/dist-packages (from spacy>=2.2.2->en_core_web_sm==2.2.5) (4.41.1)\n",
            "Requirement already satisfied: blis<0.5.0,>=0.4.0 in /usr/local/lib/python3.7/dist-packages (from spacy>=2.2.2->en_core_web_sm==2.2.5) (0.4.1)\n",
            "Requirement already satisfied: murmurhash<1.1.0,>=0.28.0 in /usr/local/lib/python3.7/dist-packages (from spacy>=2.2.2->en_core_web_sm==2.2.5) (1.0.5)\n",
            "Requirement already satisfied: setuptools in /usr/local/lib/python3.7/dist-packages (from spacy>=2.2.2->en_core_web_sm==2.2.5) (57.0.0)\n",
            "Requirement already satisfied: srsly<1.1.0,>=1.0.2 in /usr/local/lib/python3.7/dist-packages (from spacy>=2.2.2->en_core_web_sm==2.2.5) (1.0.5)\n",
            "Requirement already satisfied: cymem<2.1.0,>=2.0.2 in /usr/local/lib/python3.7/dist-packages (from spacy>=2.2.2->en_core_web_sm==2.2.5) (2.0.5)\n",
            "Requirement already satisfied: thinc==7.4.0 in /usr/local/lib/python3.7/dist-packages (from spacy>=2.2.2->en_core_web_sm==2.2.5) (7.4.0)\n",
            "Requirement already satisfied: certifi>=2017.4.17 in /usr/local/lib/python3.7/dist-packages (from requests<3.0.0,>=2.13.0->spacy>=2.2.2->en_core_web_sm==2.2.5) (2021.5.30)\n",
            "Requirement already satisfied: idna<3,>=2.5 in /usr/local/lib/python3.7/dist-packages (from requests<3.0.0,>=2.13.0->spacy>=2.2.2->en_core_web_sm==2.2.5) (2.10)\n",
            "Requirement already satisfied: urllib3!=1.25.0,!=1.25.1,<1.26,>=1.21.1 in /usr/local/lib/python3.7/dist-packages (from requests<3.0.0,>=2.13.0->spacy>=2.2.2->en_core_web_sm==2.2.5) (1.24.3)\n",
            "Requirement already satisfied: chardet<4,>=3.0.2 in /usr/local/lib/python3.7/dist-packages (from requests<3.0.0,>=2.13.0->spacy>=2.2.2->en_core_web_sm==2.2.5) (3.0.4)\n",
            "Requirement already satisfied: importlib-metadata>=0.20; python_version < \"3.8\" in /usr/local/lib/python3.7/dist-packages (from catalogue<1.1.0,>=0.0.7->spacy>=2.2.2->en_core_web_sm==2.2.5) (4.5.0)\n",
            "Requirement already satisfied: typing-extensions>=3.6.4; python_version < \"3.8\" in /usr/local/lib/python3.7/dist-packages (from importlib-metadata>=0.20; python_version < \"3.8\"->catalogue<1.1.0,>=0.0.7->spacy>=2.2.2->en_core_web_sm==2.2.5) (3.7.4.3)\n",
            "Requirement already satisfied: zipp>=0.5 in /usr/local/lib/python3.7/dist-packages (from importlib-metadata>=0.20; python_version < \"3.8\"->catalogue<1.1.0,>=0.0.7->spacy>=2.2.2->en_core_web_sm==2.2.5) (3.4.1)\n",
            "\u001b[38;5;2m✔ Download and installation successful\u001b[0m\n",
            "You can now load the model via spacy.load('en_core_web_sm')\n"
          ],
          "name": "stdout"
        }
      ]
    },
    {
      "cell_type": "code",
      "metadata": {
        "id": "oZBY9S33NxmY",
        "colab": {
          "base_uri": "https://localhost:8080/"
        },
        "outputId": "1b38fba9-52d6-40c8-b253-4fbcfd4f512d"
      },
      "source": [
        "# MM: pip is the standard package manager for Python. It allows you to install and manage\n",
        "# additional packages that are not part of the Python standard library.\n",
        "# MM: from https://realpython.com/what-is-pip/\n",
        "\n",
        "! pip install snorkel"
      ],
      "execution_count": 7,
      "outputs": [
        {
          "output_type": "stream",
          "text": [
            "Collecting snorkel\n",
            "\u001b[?25l  Downloading https://files.pythonhosted.org/packages/a3/e4/74674d73574db5d2d9fe74440c33ba873afe93f36e8e54762e36b090ed39/snorkel-0.9.7-py3-none-any.whl (145kB)\n",
            "\u001b[K     |████████████████████████████████| 153kB 12.4MB/s \n",
            "\u001b[?25hRequirement already satisfied: scipy<2.0.0,>=1.2.0 in /usr/local/lib/python3.7/dist-packages (from snorkel) (1.4.1)\n",
            "Requirement already satisfied: tqdm<5.0.0,>=4.33.0 in /usr/local/lib/python3.7/dist-packages (from snorkel) (4.41.1)\n",
            "Requirement already satisfied: torch<2.0.0,>=1.2.0 in /usr/local/lib/python3.7/dist-packages (from snorkel) (1.9.0+cu102)\n",
            "Collecting tensorboard<2.0.0,>=1.14.0\n",
            "\u001b[?25l  Downloading https://files.pythonhosted.org/packages/1e/e9/d3d747a97f7188f48aa5eda486907f3b345cd409f0a0850468ba867db246/tensorboard-1.15.0-py3-none-any.whl (3.8MB)\n",
            "\u001b[K     |████████████████████████████████| 3.8MB 22.6MB/s \n",
            "\u001b[?25hCollecting munkres>=1.0.6\n",
            "  Downloading https://files.pythonhosted.org/packages/90/ab/0301c945a704218bc9435f0e3c88884f6b19ef234d8899fb47ce1ccfd0c9/munkres-1.1.4-py2.py3-none-any.whl\n",
            "Requirement already satisfied: numpy<1.20.0,>=1.16.5 in /usr/local/lib/python3.7/dist-packages (from snorkel) (1.19.5)\n",
            "Collecting networkx<2.4,>=2.2\n",
            "\u001b[?25l  Downloading https://files.pythonhosted.org/packages/85/08/f20aef11d4c343b557e5de6b9548761811eb16e438cee3d32b1c66c8566b/networkx-2.3.zip (1.7MB)\n",
            "\u001b[K     |████████████████████████████████| 1.8MB 36.7MB/s \n",
            "\u001b[?25hRequirement already satisfied: scikit-learn<0.25.0,>=0.20.2 in /usr/local/lib/python3.7/dist-packages (from snorkel) (0.22.2.post1)\n",
            "Requirement already satisfied: pandas<2.0.0,>=1.0.0 in /usr/local/lib/python3.7/dist-packages (from snorkel) (1.1.5)\n",
            "Requirement already satisfied: typing-extensions in /usr/local/lib/python3.7/dist-packages (from torch<2.0.0,>=1.2.0->snorkel) (3.7.4.3)\n",
            "Requirement already satisfied: absl-py>=0.4 in /usr/local/lib/python3.7/dist-packages (from tensorboard<2.0.0,>=1.14.0->snorkel) (0.12.0)\n",
            "Requirement already satisfied: wheel>=0.26; python_version >= \"3\" in /usr/local/lib/python3.7/dist-packages (from tensorboard<2.0.0,>=1.14.0->snorkel) (0.36.2)\n",
            "Requirement already satisfied: markdown>=2.6.8 in /usr/local/lib/python3.7/dist-packages (from tensorboard<2.0.0,>=1.14.0->snorkel) (3.3.4)\n",
            "Requirement already satisfied: six>=1.10.0 in /usr/local/lib/python3.7/dist-packages (from tensorboard<2.0.0,>=1.14.0->snorkel) (1.15.0)\n",
            "Requirement already satisfied: grpcio>=1.6.3 in /usr/local/lib/python3.7/dist-packages (from tensorboard<2.0.0,>=1.14.0->snorkel) (1.34.1)\n",
            "Requirement already satisfied: protobuf>=3.6.0 in /usr/local/lib/python3.7/dist-packages (from tensorboard<2.0.0,>=1.14.0->snorkel) (3.12.4)\n",
            "Requirement already satisfied: setuptools>=41.0.0 in /usr/local/lib/python3.7/dist-packages (from tensorboard<2.0.0,>=1.14.0->snorkel) (57.0.0)\n",
            "Requirement already satisfied: werkzeug>=0.11.15 in /usr/local/lib/python3.7/dist-packages (from tensorboard<2.0.0,>=1.14.0->snorkel) (1.0.1)\n",
            "Requirement already satisfied: decorator>=4.3.0 in /usr/local/lib/python3.7/dist-packages (from networkx<2.4,>=2.2->snorkel) (4.4.2)\n",
            "Requirement already satisfied: joblib>=0.11 in /usr/local/lib/python3.7/dist-packages (from scikit-learn<0.25.0,>=0.20.2->snorkel) (1.0.1)\n",
            "Requirement already satisfied: python-dateutil>=2.7.3 in /usr/local/lib/python3.7/dist-packages (from pandas<2.0.0,>=1.0.0->snorkel) (2.8.1)\n",
            "Requirement already satisfied: pytz>=2017.2 in /usr/local/lib/python3.7/dist-packages (from pandas<2.0.0,>=1.0.0->snorkel) (2018.9)\n",
            "Requirement already satisfied: importlib-metadata; python_version < \"3.8\" in /usr/local/lib/python3.7/dist-packages (from markdown>=2.6.8->tensorboard<2.0.0,>=1.14.0->snorkel) (4.5.0)\n",
            "Requirement already satisfied: zipp>=0.5 in /usr/local/lib/python3.7/dist-packages (from importlib-metadata; python_version < \"3.8\"->markdown>=2.6.8->tensorboard<2.0.0,>=1.14.0->snorkel) (3.4.1)\n",
            "Building wheels for collected packages: networkx\n",
            "  Building wheel for networkx (setup.py) ... \u001b[?25l\u001b[?25hdone\n",
            "  Created wheel for networkx: filename=networkx-2.3-py2.py3-none-any.whl size=1556427 sha256=4c9e6a3ab59df8d504e48fefc940bd3a1375030121285bce17dd49c8954196f6\n",
            "  Stored in directory: /root/.cache/pip/wheels/de/63/64/3699be2a9d0ccdb37c7f16329acf3863fd76eda58c39c737af\n",
            "Successfully built networkx\n",
            "\u001b[31mERROR: tensorflow 2.5.0 has requirement tensorboard~=2.5, but you'll have tensorboard 1.15.0 which is incompatible.\u001b[0m\n",
            "\u001b[31mERROR: albumentations 0.1.12 has requirement imgaug<0.2.7,>=0.2.5, but you'll have imgaug 0.2.9 which is incompatible.\u001b[0m\n",
            "Installing collected packages: tensorboard, munkres, networkx, snorkel\n",
            "  Found existing installation: tensorboard 2.5.0\n",
            "    Uninstalling tensorboard-2.5.0:\n",
            "      Successfully uninstalled tensorboard-2.5.0\n",
            "  Found existing installation: networkx 2.5.1\n",
            "    Uninstalling networkx-2.5.1:\n",
            "      Successfully uninstalled networkx-2.5.1\n",
            "Successfully installed munkres-1.1.4 networkx-2.3 snorkel-0.9.7 tensorboard-1.15.0\n"
          ],
          "name": "stdout"
        }
      ]
    },
    {
      "cell_type": "code",
      "metadata": {
        "id": "WHomwlWtC4di"
      },
      "source": [
        "# defining labels\n",
        "\n",
        "#ABSTAIN = -1\n",
        "#TREATMENT = 0\n",
        "#SYMPTOMATIC = 1\n",
        "#CONTRAIND = 2\n",
        "#EFFECT = 3\n",
        "\n",
        "\n",
        "ABSTAIN = -1\n",
        "CATEGORY= {'Effect': 0,\n",
        "'Contraindication': 1,\n",
        "'Symptomatic Relief': 2,\n",
        "'Treatment':3}"
      ],
      "execution_count": 8,
      "outputs": []
    },
    {
      "cell_type": "markdown",
      "metadata": {
        "id": "ldPRr46LTXdh"
      },
      "source": [
        "#**clustering training data**"
      ]
    },
    {
      "cell_type": "code",
      "metadata": {
        "id": "gVhB_jwuf2q7"
      },
      "source": [
        "import numpy as np\n",
        "import pandas as pd\n",
        "import matplotlib.pyplot as plt\n",
        "import matplotlib.cm as cm\n",
        "\n",
        "from sklearn.cluster import MiniBatchKMeans\n",
        "from sklearn.feature_extraction.text import TfidfVectorizer\n",
        "from sklearn.decomposition import PCA\n",
        "from sklearn.manifold import TSNE"
      ],
      "execution_count": 9,
      "outputs": []
    },
    {
      "cell_type": "code",
      "metadata": {
        "colab": {
          "base_uri": "https://localhost:8080/"
        },
        "id": "kPIylB7IjjHS",
        "outputId": "a8f3bf50-4e81-4a6b-d930-9be75a32f9e4"
      },
      "source": [
        "#find unique contexts (eliminate duplicates)\n",
        "\n",
        "context_unique = df[\"Context\"].unique()\n",
        "\n",
        "print( len(context_unique))"
      ],
      "execution_count": 10,
      "outputs": [
        {
          "output_type": "stream",
          "text": [
            "9920\n"
          ],
          "name": "stdout"
        }
      ]
    },
    {
      "cell_type": "code",
      "metadata": {
        "id": "ITthUu31gHYo"
      },
      "source": [
        "#automatic tf idf implementation, vectorizer\n",
        "\n",
        "tfidf = TfidfVectorizer(\n",
        "    min_df = 5,\n",
        "    max_df = 0.95,\n",
        "    max_features = 8000,\n",
        "    stop_words = 'english'\n",
        ")\n",
        "tfidf.fit(context_unique)\n",
        "text = tfidf.transform(context_unique)"
      ],
      "execution_count": 11,
      "outputs": []
    },
    {
      "cell_type": "code",
      "metadata": {
        "colab": {
          "base_uri": "https://localhost:8080/",
          "height": 465
        },
        "id": "1u0hbtb22Zrj",
        "outputId": "fee28a6c-8e71-490e-8142-92d0c730a11d"
      },
      "source": [
        "def find_optimal_clusters(data, max_k):\n",
        "    iters = range(2, max_k+1, 2)\n",
        "    \n",
        "    sse = []\n",
        "    for k in iters:\n",
        "        sse.append(MiniBatchKMeans(n_clusters=k, init_size=1024, batch_size=2048, random_state=20).fit(data).inertia_)\n",
        "        print('Fit {} clusters'.format(k))\n",
        "        \n",
        "    f, ax = plt.subplots(1, 1)\n",
        "    ax.plot(iters, sse, marker='o')\n",
        "    ax.set_xlabel('Cluster Centers')\n",
        "    ax.set_xticks(iters)\n",
        "    ax.set_xticklabels(iters)\n",
        "    ax.set_ylabel('SSE')\n",
        "    ax.set_title('SSE by Cluster Center Plot')\n",
        "    \n",
        "find_optimal_clusters(text, 20)"
      ],
      "execution_count": 12,
      "outputs": [
        {
          "output_type": "stream",
          "text": [
            "Fit 2 clusters\n",
            "Fit 4 clusters\n",
            "Fit 6 clusters\n",
            "Fit 8 clusters\n",
            "Fit 10 clusters\n",
            "Fit 12 clusters\n",
            "Fit 14 clusters\n",
            "Fit 16 clusters\n",
            "Fit 18 clusters\n",
            "Fit 20 clusters\n"
          ],
          "name": "stdout"
        },
        {
          "output_type": "display_data",
          "data": {
            "image/png": "[encoded data removed]",
            "text/plain": [
              "<Figure size 432x288 with 1 Axes>"
            ]
          },
          "metadata": {
            "tags": [],
            "needs_background": "light"
          }
        }
      ]
    },
    {
      "cell_type": "code",
      "metadata": {
        "id": "UR2ABxkQ8IaA"
      },
      "source": [
        "clusters = MiniBatchKMeans(n_clusters=14, init_size=1024, batch_size=2048, random_state=20).fit_predict(text)"
      ],
      "execution_count": 13,
      "outputs": []
    },
    {
      "cell_type": "code",
      "metadata": {
        "colab": {
          "base_uri": "https://localhost:8080/",
          "height": 390
        },
        "id": "QLfcxRpwC5pH",
        "outputId": "80b45e71-6a4a-4e89-9570-ee1aded11473"
      },
      "source": [
        "def plot_tsne_pca(data, labels):\n",
        "    max_label = max(labels)\n",
        "    max_items = np.random.choice(range(data.shape[0]), size=3000, replace=False)\n",
        "    \n",
        "    pca = PCA(n_components=2).fit_transform(data[max_items,:].todense())\n",
        "    tsne = TSNE().fit_transform(PCA(n_components=50).fit_transform(data[max_items,:].todense()))\n",
        "    \n",
        "    \n",
        "    idx = np.random.choice(range(pca.shape[0]), size=300, replace=False)\n",
        "    label_subset = labels[max_items]\n",
        "    label_subset = [cm.hsv(i/max_label) for i in label_subset[idx]]\n",
        "    \n",
        "    f, ax = plt.subplots(1, 2, figsize=(14, 6))\n",
        "    \n",
        "    ax[0].scatter(pca[idx, 0], pca[idx, 1], c=label_subset)\n",
        "    ax[0].set_title('PCA Cluster Plot')\n",
        "    \n",
        "    ax[1].scatter(tsne[idx, 0], tsne[idx, 1], c=label_subset)\n",
        "    ax[1].set_title('TSNE Cluster Plot')\n",
        "    \n",
        "plot_tsne_pca(text, clusters)"
      ],
      "execution_count": 14,
      "outputs": [
        {
          "output_type": "display_data",
          "data": {
            "image/png": "[encoded data removed]",
            "text/plain": [
              "<Figure size 1008x432 with 2 Axes>"
            ]
          },
          "metadata": {
            "tags": [],
            "needs_background": "light"
          }
        }
      ]
    },
    {
      "cell_type": "markdown",
      "metadata": {
        "id": "09ScHV1FPwOO"
      },
      "source": [
        "\n",
        "\n",
        "\n",
        "\n",
        "\n",
        "#**Clustering the test dataset**\n",
        "\n",
        "\n"
      ]
    },
    {
      "cell_type": "code",
      "metadata": {
        "id": "Pa-XwQOuOXKY"
      },
      "source": [
        "tfidf_test = TfidfVectorizer(\n",
        "    min_df = 5,\n",
        "    max_df = 0.95,\n",
        "    max_features = 8000,\n",
        "    stop_words = 'english'\n",
        ")\n",
        "tfidf_test.fit(df_test.Context)\n",
        "text_test = tfidf.transform(df_test.Context)"
      ],
      "execution_count": 15,
      "outputs": []
    },
    {
      "cell_type": "code",
      "metadata": {
        "colab": {
          "base_uri": "https://localhost:8080/",
          "height": 465
        },
        "id": "DBGFY_PQPvd6",
        "outputId": "94c89d47-664c-4257-f486-abd69aa72465"
      },
      "source": [
        "\n",
        "    \n",
        "find_optimal_clusters(text_test, 20)"
      ],
      "execution_count": 16,
      "outputs": [
        {
          "output_type": "stream",
          "text": [
            "Fit 2 clusters\n",
            "Fit 4 clusters\n",
            "Fit 6 clusters\n",
            "Fit 8 clusters\n",
            "Fit 10 clusters\n",
            "Fit 12 clusters\n",
            "Fit 14 clusters\n",
            "Fit 16 clusters\n",
            "Fit 18 clusters\n",
            "Fit 20 clusters\n"
          ],
          "name": "stdout"
        },
        {
          "output_type": "display_data",
          "data": {
            "image/png": "[encoded data removed]",
            "text/plain": [
              "<Figure size 432x288 with 1 Axes>"
            ]
          },
          "metadata": {
            "tags": [],
            "needs_background": "light"
          }
        }
      ]
    },
    {
      "cell_type": "code",
      "metadata": {
        "id": "MWa5bc5SQiuK"
      },
      "source": [
        "test_clusters = MiniBatchKMeans(n_clusters=14, init_size=1024, batch_size=2048, random_state=20).fit_predict(text_test)"
      ],
      "execution_count": 17,
      "outputs": []
    },
    {
      "cell_type": "code",
      "metadata": {
        "colab": {
          "base_uri": "https://localhost:8080/",
          "height": 390
        },
        "id": "N-X6lKrMQrSv",
        "outputId": "0995736e-cd09-48b0-c761-de42eb8b7404"
      },
      "source": [
        "def plot_tsne_pca_test(data, labels):\n",
        "    max_label = max(labels)\n",
        "    max_items = np.random.choice(range(data.shape[0]), size=281, replace=False)\n",
        "    \n",
        "    pca = PCA(n_components=2).fit_transform(data[max_items,:].todense())\n",
        "    tsne = TSNE().fit_transform(PCA(n_components=50).fit_transform(data[max_items,:].todense()))\n",
        "    \n",
        "    \n",
        "    idx = np.random.choice(range(pca.shape[0]), size=281, replace=False)\n",
        "    label_subset = labels[max_items]\n",
        "    label_subset = [cm.hsv(i/max_label) for i in label_subset[idx]]\n",
        "    \n",
        "    f, ax = plt.subplots(1, 2, figsize=(14, 6))\n",
        "    \n",
        "    ax[0].scatter(pca[idx, 0], pca[idx, 1], c=label_subset)\n",
        "    ax[0].set_title('PCA Cluster Plot')\n",
        "    \n",
        "    ax[1].scatter(tsne[idx, 0], tsne[idx, 1], c=label_subset)\n",
        "    ax[1].set_title('TSNE Cluster Plot')\n",
        "    \n",
        "plot_tsne_pca_test(text_test, test_clusters)"
      ],
      "execution_count": 18,
      "outputs": [
        {
          "output_type": "display_data",
          "data": {
            "image/png": "[encoded data removed]",
            "text/plain": [
              "<Figure size 1008x432 with 2 Axes>"
            ]
          },
          "metadata": {
            "tags": [],
            "needs_background": "light"
          }
        }
      ]
    },
    {
      "cell_type": "code",
      "metadata": {
        "colab": {
          "base_uri": "https://localhost:8080/"
        },
        "id": "iIpDPNMXR9Yk",
        "outputId": "b6580c0c-2697-4163-e7fc-e728afdd4335"
      },
      "source": [
        "def get_top_keywords(data, clusters, labels, n_terms):\n",
        "    df = pd.DataFrame(data.todense()).groupby(clusters).mean()\n",
        "    \n",
        "    for i,r in df.iterrows():\n",
        "        print('\\nCluster {}'.format(i))\n",
        "        print(','.join([labels[t] for t in np.argsort(r)[-n_terms:]]))\n",
        "            \n",
        "get_top_keywords(text, clusters, tfidf.get_feature_names(), 30)"
      ],
      "execution_count": 19,
      "outputs": [
        {
          "output_type": "stream",
          "text": [
            "\n",
            "Cluster 0\n",
            "methotrexate,concurrently,antituberculous,exacerbation,block,adrenocortical,courses,selected,severe,postoperative,repeat,associated,lupus,erythematosus,idiopathic,prevention,tide,rheumatoid,anemia,ondansetron,emetogenic,cancer,allergic,dermatitis,acute,arthritis,chemotherapy,diseases,nausea,vomiting\n",
            "\n",
            "Cluster 1\n",
            "delayed,adults,treatment,mood,headaches,complex,migraine,topiramate,clonic,tonic,therapy,patients,episodes,indicated,gabapentin,lamotrigine,age,generalized,older,onset,monotherapy,epilepsy,tablets,release,adjunctive,sodium,years,partial,divalproex,seizures\n",
            "\n",
            "Cluster 2\n",
            "injection,species,pneumoniae,testing,drug,bacteroides,fragilis,gram,culture,clindamycin,microorganisms,usp,following,indicated,resistant,respiratory,trachomatis,treatment,chlamydia,therapy,fever,antibacterial,penicillin,susceptible,tract,bacteria,susceptibility,doxycycline,infections,caused\n",
            "\n",
            "Cluster 3\n",
            "inhibitor,management,years,14,age,potassium,opioid,used,hypertension,drug,therapy,known,history,renal,acute,usp,clinical,hypersensitivity,severe,injection,disease,hydrochloride,precautions,contraindicated,warnings,use,tablets,treatment,indicated,patients\n",
            "\n",
            "Cluster 4\n",
            "rarely,meloxicam,preexisting,ibuprofen,anaphylactoid,contraindicated,fatal,known,reported,coronary,patients,artery,precautions,type,bypass,taking,graft,urticaria,surgery,allergic,setting,naproxen,cabg,diclofenac,aspirin,warnings,anaphylactic,asthma,nsaids,reactions\n",
            "\n",
            "Cluster 5\n",
            "combination,therapy,refer,esomeprazole,active,short,term,adults,studies,contraindications,rabeprazole,patients,gastric,treatment,esophagitis,duodenal,indicated,healing,gerd,erosive,amoxicillin,weeks,pylori,ulcer,capsules,lansoprazole,omeprazole,release,clarithromycin,delayed\n",
            "\n",
            "Cluster 6\n",
            "duloxetine,bupropion,pimozide,intravenous,tablets,risk,14,escitalopram,linezolid,methylene,blue,warnings,increased,administration,hydrochloride,citalopram,maoi,dosage,syndrome,treat,use,contraindicated,disorders,fluoxetine,serotonin,days,psychiatric,intended,stopping,maois\n",
            "\n",
            "Cluster 7\n",
            "apo,heart,type,calcium,familial,chd,adjunct,lipoprotein,levels,indicated,tablets,adult,mg,hdl,dl,patients,disease,elevated,coronary,therapy,tg,hypercholesterolemia,fenofibrate,fredrickson,total,cholesterol,reduce,risk,diet,ldl\n",
            "\n",
            "Cluster 8\n",
            "inhibitors,threatening,form,cyclase,guanylate,stimulator,hypersensitivity,tablets,patients,using,coadministration,concentrations,potential,pharmacology,use,stimulators,12,plasma,contraindicated,gc,potentiate,ritonavir,hypotensive,organic,riociguat,nitroglycerin,voriconazole,nitrates,tadalafil,sildenafil\n",
            "\n",
            "Cluster 9\n",
            "tablets,mdd,symptoms,adolescents,dsm,associated,acute,extended,term,trial,episodes,adults,panic,maintenance,established,fluoxetine,indicated,week,major,efficacy,schizophrenia,anxiety,trials,studies,14,bipolar,clinical,depressive,treatment,disorder\n",
            "\n",
            "Cluster 10\n",
            "pseudomonas,mirabilis,bacterial,klebsiella,isolates,levofloxacin,proteus,treatment,pneumonia,therapy,indicated,escherichia,coli,moraxella,catarrhalis,susceptibility,skin,aureus,pyogenes,antibacterial,azithromycin,influenzae,bacteria,haemophilus,susceptible,staphylococcus,caused,pneumoniae,infections,streptococcus\n",
            "\n",
            "Cluster 11\n",
            "shown,usp,cream,solution,adverse,injection,persons,preparation,levetiracetam,demonstrated,angioedema,warnings,formulation,precautions,reaction,tablets,drug,hydrochloride,component,anaphylaxis,excipients,product,reactions,history,ingredients,components,patients,known,contraindicated,hypersensitivity\n",
            "\n",
            "Cluster 12\n",
            "synthesis,warnings,component,reactions,statins,transaminase,cause,breast,fetus,infants,precautions,disease,persistent,edema,hypersensitivity,elevations,use,fetal,cholesterol,unexplained,known,nursing,specific,populations,liver,potential,active,women,pregnant,pregnancy\n",
            "\n",
            "Cluster 13\n",
            "diabetes,failure,greater,higher,treatment,goals,seen,national,benefits,angina,lower,mortality,reductions,classes,variety,patients,myocardial,high,management,pharmacologic,drugs,absolute,hypertension,benefit,reduction,antihypertensive,risk,cardiovascular,pressure,blood\n"
          ],
          "name": "stdout"
        }
      ]
    },
    {
      "cell_type": "code",
      "metadata": {
        "colab": {
          "base_uri": "https://localhost:8080/"
        },
        "id": "zcSf49GWMrt1",
        "outputId": "79064821-3420-476f-b928-bfa9398af0aa"
      },
      "source": [
        "def get_top_keywords(data, clusters, labels, n_terms):\n",
        "    df = pd.DataFrame(data.todense()).groupby(clusters).mean()\n",
        "    \n",
        "    for i,r in df.iterrows():\n",
        "        print('\\nCluster {}'.format(i))\n",
        "        print(','.join([labels[t] for t in np.argsort(r)[-n_terms:]]))\n",
        "            \n",
        "get_top_keywords(text_test, test_clusters, tfidf.get_feature_names(), 20)\n"
      ],
      "execution_count": 20,
      "outputs": [
        {
          "output_type": "stream",
          "text": [
            "\n",
            "Cluster 0\n",
            "rheumatoid,hydrochloride,used,moderately,parkinsonism,gastrointestinal,treatment,patients,irritable,therapy,colon,acute,indicated,bladder,active,remission,bowel,arthritis,ulcerative,colitis\n",
            "\n",
            "Cluster 1\n",
            "reduction,hydrochloride,shown,pilocarpine,sulfonamide,airway,effective,chronic,patients,used,hypertension,lowering,closure,solution,ophthalmic,open,pressure,ocular,angle,glaucoma\n",
            "\n",
            "Cluster 2\n",
            "second,warnings,contraindicated,sick,heart,bronchospastic,obstructive,pulmonary,chronic,failure,pacemaker,shock,block,shampoo,degree,sinus,cardiogenic,bradycardia,asthma,bronchial\n",
            "\n",
            "Cluster 3\n",
            "transient,tablets,mi,angioedema,myocardial,infarction,hypertension,heart,bromocriptine,uncontrolled,patients,hypersensitivity,stroke,coronary,artery,warnings,precautions,disease,ischemic,history\n",
            "\n",
            "Cluster 4\n",
            "mother,causes,fumarate,nisoldipine,especially,beats,usp,toxemia,used,management,thiazide,combination,agents,tablets,indicated,diuretics,pregnancy,antihypertensive,edema,hypertension\n",
            "\n",
            "Cluster 5\n",
            "consideration,data,enzyme,patients,diuretics,blacks,converting,non,particularly,inhibitors,hypertension,collagen,fact,agranulocytosis,noted,tablets,angioedema,ace,black,captopril\n",
            "\n",
            "Cluster 6\n",
            "arrest,important,insufficiency,tablets,indicated,patients,ketoacidosis,hyperkalemia,pancreatitis,adults,settings,adjunct,control,diet,exercise,type,improve,glycemic,diabetes,mellitus\n",
            "\n",
            "Cluster 7\n",
            "purulent,suspension,infections,structures,ophthalmic,herpes,eye,fungal,simplex,viral,mycobacterial,varicella,ocular,cornea,conjunctiva,epithelial,vaccinia,dendritic,diseases,keratitis\n",
            "\n",
            "Cluster 8\n",
            "mortality,greater,higher,goals,national,reductions,felodipine,high,pharmacologic,management,hypertension,drugs,absolute,benefit,antihypertensive,reduction,risk,cardiovascular,pressure,blood\n",
            "\n",
            "Cluster 9\n",
            "pyloric,application,methylphenidate,known,tablets,patients,carbamate,angle,narrow,urinary,patch,contraindicated,hypersensitivity,citrate,release,tartrate,obstruction,extended,glaucoma,retention\n",
            "\n",
            "Cluster 10\n",
            "intermittent,prior,levodopa,symptoms,advanced,parkinson,nasal,carbidopa,disease,metastatic,leukemia,vitamin,acute,capsules,carcinoma,patients,injection,usp,treatment,indicated\n",
            "\n",
            "Cluster 11\n",
            "intravenous,beta,perioperative,term,adrenergic,postoperative,diltiazem,control,supraventricular,short,flutter,sinus,rate,verapamil,hydrochloride,injection,fibrillation,atrial,ventricular,tachycardia\n",
            "\n",
            "Cluster 12\n",
            "individual,risks,duration,use,consider,rhinitis,deciding,options,indicated,tablets,treatment,carefully,shortest,lowest,osteoarthritis,rheumatoid,symptoms,arthritis,signs,relief\n",
            "\n",
            "Cluster 13\n",
            "impairment,allergy,known,metolazone,obstruction,insufficiency,drug,constipation,disease,isoniazid,coma,renal,tablets,hypersensitivity,hepatitis,anuria,patients,severe,contraindicated,hepatic\n"
          ],
          "name": "stdout"
        }
      ]
    },
    {
      "cell_type": "code",
      "metadata": {
        "id": "NgxZJ1F6vfuk"
      },
      "source": [
        "\n",
        "\n",
        "def get_top_keyword_dict(data, clusters, labels, n_terms):\n",
        "    df = pd.DataFrame(data.todense()).groupby(clusters).mean()\n",
        "\n",
        "    clusters_dict = {}\n",
        "\n",
        "    for i,r in df.iterrows():\n",
        "      clusters_dict['cluster_%s' % i] = []\n",
        "      clusters_dict['cluster_%s' % i].append([labels[t] for t in np.argsort(r)[-n_terms:]])\n",
        "\n",
        "    return clusters_dict\n",
        "\n",
        "clusters_train_dict = get_top_keyword_dict(text, clusters, tfidf.get_feature_names(), 30)\n"
      ],
      "execution_count": 21,
      "outputs": []
    },
    {
      "cell_type": "code",
      "metadata": {
        "colab": {
          "base_uri": "https://localhost:8080/"
        },
        "id": "WmRpMuuuadnU",
        "outputId": "ba08304d-0d71-464d-eafa-4d9495a05e78"
      },
      "source": [
        "\n",
        "\n",
        "clusters_test_dict = get_top_keyword_dict(text_test, test_clusters, tfidf.get_feature_names(), 20)\n",
        "print(clusters_test_dict['cluster_3'])"
      ],
      "execution_count": 22,
      "outputs": [
        {
          "output_type": "stream",
          "text": [
            "[['transient', 'tablets', 'mi', 'angioedema', 'myocardial', 'infarction', 'hypertension', 'heart', 'bromocriptine', 'uncontrolled', 'patients', 'hypersensitivity', 'stroke', 'coronary', 'artery', 'warnings', 'precautions', 'disease', 'ischemic', 'history']]\n"
          ],
          "name": "stdout"
        }
      ]
    },
    {
      "cell_type": "code",
      "metadata": {
        "id": "viCaouLBK_yY"
      },
      "source": [
        ""
      ],
      "execution_count": 22,
      "outputs": []
    },
    {
      "cell_type": "code",
      "metadata": {
        "id": "_K7L__fKKPib"
      },
      "source": [
        "#create subsets of the test set for each label\n",
        "\n",
        "df_test_indic = df_test[df_test['label']=='Indication: Treatment']\n",
        "df_test_sympt = df_test[df_test['label']=='Indication: Symptomatic Relief']\n",
        "df_test_contraind = df_test[df_test['label']=='Contraindication']\n",
        "df_test_effect = df_test[df_test['label']=='Effect']"
      ],
      "execution_count": 23,
      "outputs": []
    },
    {
      "cell_type": "code",
      "metadata": {
        "colab": {
          "base_uri": "https://localhost:8080/"
        },
        "id": "OWJ_jZchFxFG",
        "outputId": "04a7a3eb-b0f2-47ac-eccf-6a2649ef8d63"
      },
      "source": [
        "for key in clusters_train_dict:\n",
        "  print(clusters_train_dict[key])"
      ],
      "execution_count": 24,
      "outputs": [
        {
          "output_type": "stream",
          "text": [
            "[['methotrexate', 'concurrently', 'antituberculous', 'exacerbation', 'block', 'adrenocortical', 'courses', 'selected', 'severe', 'postoperative', 'repeat', 'associated', 'lupus', 'erythematosus', 'idiopathic', 'prevention', 'tide', 'rheumatoid', 'anemia', 'ondansetron', 'emetogenic', 'cancer', 'allergic', 'dermatitis', 'acute', 'arthritis', 'chemotherapy', 'diseases', 'nausea', 'vomiting']]\n",
            "[['delayed', 'adults', 'treatment', 'mood', 'headaches', 'complex', 'migraine', 'topiramate', 'clonic', 'tonic', 'therapy', 'patients', 'episodes', 'indicated', 'gabapentin', 'lamotrigine', 'age', 'generalized', 'older', 'onset', 'monotherapy', 'epilepsy', 'tablets', 'release', 'adjunctive', 'sodium', 'years', 'partial', 'divalproex', 'seizures']]\n",
            "[['injection', 'species', 'pneumoniae', 'testing', 'drug', 'bacteroides', 'fragilis', 'gram', 'culture', 'clindamycin', 'microorganisms', 'usp', 'following', 'indicated', 'resistant', 'respiratory', 'trachomatis', 'treatment', 'chlamydia', 'therapy', 'fever', 'antibacterial', 'penicillin', 'susceptible', 'tract', 'bacteria', 'susceptibility', 'doxycycline', 'infections', 'caused']]\n",
            "[['inhibitor', 'management', 'years', '14', 'age', 'potassium', 'opioid', 'used', 'hypertension', 'drug', 'therapy', 'known', 'history', 'renal', 'acute', 'usp', 'clinical', 'hypersensitivity', 'severe', 'injection', 'disease', 'hydrochloride', 'precautions', 'contraindicated', 'warnings', 'use', 'tablets', 'treatment', 'indicated', 'patients']]\n",
            "[['rarely', 'meloxicam', 'preexisting', 'ibuprofen', 'anaphylactoid', 'contraindicated', 'fatal', 'known', 'reported', 'coronary', 'patients', 'artery', 'precautions', 'type', 'bypass', 'taking', 'graft', 'urticaria', 'surgery', 'allergic', 'setting', 'naproxen', 'cabg', 'diclofenac', 'aspirin', 'warnings', 'anaphylactic', 'asthma', 'nsaids', 'reactions']]\n",
            "[['combination', 'therapy', 'refer', 'esomeprazole', 'active', 'short', 'term', 'adults', 'studies', 'contraindications', 'rabeprazole', 'patients', 'gastric', 'treatment', 'esophagitis', 'duodenal', 'indicated', 'healing', 'gerd', 'erosive', 'amoxicillin', 'weeks', 'pylori', 'ulcer', 'capsules', 'lansoprazole', 'omeprazole', 'release', 'clarithromycin', 'delayed']]\n",
            "[['duloxetine', 'bupropion', 'pimozide', 'intravenous', 'tablets', 'risk', '14', 'escitalopram', 'linezolid', 'methylene', 'blue', 'warnings', 'increased', 'administration', 'hydrochloride', 'citalopram', 'maoi', 'dosage', 'syndrome', 'treat', 'use', 'contraindicated', 'disorders', 'fluoxetine', 'serotonin', 'days', 'psychiatric', 'intended', 'stopping', 'maois']]\n",
            "[['apo', 'heart', 'type', 'calcium', 'familial', 'chd', 'adjunct', 'lipoprotein', 'levels', 'indicated', 'tablets', 'adult', 'mg', 'hdl', 'dl', 'patients', 'disease', 'elevated', 'coronary', 'therapy', 'tg', 'hypercholesterolemia', 'fenofibrate', 'fredrickson', 'total', 'cholesterol', 'reduce', 'risk', 'diet', 'ldl']]\n",
            "[['inhibitors', 'threatening', 'form', 'cyclase', 'guanylate', 'stimulator', 'hypersensitivity', 'tablets', 'patients', 'using', 'coadministration', 'concentrations', 'potential', 'pharmacology', 'use', 'stimulators', '12', 'plasma', 'contraindicated', 'gc', 'potentiate', 'ritonavir', 'hypotensive', 'organic', 'riociguat', 'nitroglycerin', 'voriconazole', 'nitrates', 'tadalafil', 'sildenafil']]\n",
            "[['tablets', 'mdd', 'symptoms', 'adolescents', 'dsm', 'associated', 'acute', 'extended', 'term', 'trial', 'episodes', 'adults', 'panic', 'maintenance', 'established', 'fluoxetine', 'indicated', 'week', 'major', 'efficacy', 'schizophrenia', 'anxiety', 'trials', 'studies', '14', 'bipolar', 'clinical', 'depressive', 'treatment', 'disorder']]\n",
            "[['pseudomonas', 'mirabilis', 'bacterial', 'klebsiella', 'isolates', 'levofloxacin', 'proteus', 'treatment', 'pneumonia', 'therapy', 'indicated', 'escherichia', 'coli', 'moraxella', 'catarrhalis', 'susceptibility', 'skin', 'aureus', 'pyogenes', 'antibacterial', 'azithromycin', 'influenzae', 'bacteria', 'haemophilus', 'susceptible', 'staphylococcus', 'caused', 'pneumoniae', 'infections', 'streptococcus']]\n",
            "[['shown', 'usp', 'cream', 'solution', 'adverse', 'injection', 'persons', 'preparation', 'levetiracetam', 'demonstrated', 'angioedema', 'warnings', 'formulation', 'precautions', 'reaction', 'tablets', 'drug', 'hydrochloride', 'component', 'anaphylaxis', 'excipients', 'product', 'reactions', 'history', 'ingredients', 'components', 'patients', 'known', 'contraindicated', 'hypersensitivity']]\n",
            "[['synthesis', 'warnings', 'component', 'reactions', 'statins', 'transaminase', 'cause', 'breast', 'fetus', 'infants', 'precautions', 'disease', 'persistent', 'edema', 'hypersensitivity', 'elevations', 'use', 'fetal', 'cholesterol', 'unexplained', 'known', 'nursing', 'specific', 'populations', 'liver', 'potential', 'active', 'women', 'pregnant', 'pregnancy']]\n",
            "[['diabetes', 'failure', 'greater', 'higher', 'treatment', 'goals', 'seen', 'national', 'benefits', 'angina', 'lower', 'mortality', 'reductions', 'classes', 'variety', 'patients', 'myocardial', 'high', 'management', 'pharmacologic', 'drugs', 'absolute', 'hypertension', 'benefit', 'reduction', 'antihypertensive', 'risk', 'cardiovascular', 'pressure', 'blood']]\n"
          ],
          "name": "stdout"
        }
      ]
    },
    {
      "cell_type": "code",
      "metadata": {
        "id": "T2dWwA6wqs2m",
        "colab": {
          "base_uri": "https://localhost:8080/"
        },
        "outputId": "7c0a686f-49fc-48c4-adeb-3d68ea3cd8a4"
      },
      "source": [
        "#make a function that compares keyword occurences\n",
        "\n",
        "\n",
        "def compare_keywords(data, keywords):\n",
        "\n",
        "  data_text = data['Context'].tolist()\n",
        "\n",
        "  occurrence = 0\n",
        "\n",
        "  for a in keywords[0]:\n",
        "    for i in data_text:\n",
        "      occurrence += i.count(a)\n",
        "\n",
        "  return occurrence\n",
        "\n",
        "\n",
        "for key in clusters_train_dict:\n",
        "  print(key,'\\n',compare_keywords(df_test_indic, clusters_train_dict[key]))\n",
        "\n",
        "for key in clusters_train_dict:\n",
        "  print(key,'\\n',compare_keywords(df_test_sympt, clusters_train_dict[key]))\n",
        "\n",
        "for key in clusters_train_dict:\n",
        "  print(key,'\\n',compare_keywords(df_test_contraind, clusters_train_dict[key]))\n",
        "\n",
        "for key in clusters_train_dict:\n",
        "  print(key,'\\n',compare_keywords(df_test_effect, clusters_train_dict[key]))\n",
        "\n"
      ],
      "execution_count": 25,
      "outputs": [
        {
          "output_type": "stream",
          "text": [
            "cluster_0 \n",
            " 410\n",
            "cluster_1 \n",
            " 1134\n",
            "cluster_2 \n",
            " 679\n",
            "cluster_3 \n",
            " 1901\n",
            "cluster_4 \n",
            " 404\n",
            "cluster_5 \n",
            " 983\n",
            "cluster_6 \n",
            " 685\n",
            "cluster_7 \n",
            " 997\n",
            "cluster_8 \n",
            " 569\n",
            "cluster_9 \n",
            " 954\n",
            "cluster_10 \n",
            " 523\n",
            "cluster_11 \n",
            " 649\n",
            "cluster_12 \n",
            " 457\n",
            "cluster_13 \n",
            " 1465\n",
            "cluster_0 \n",
            " 234\n",
            "cluster_1 \n",
            " 497\n",
            "cluster_2 \n",
            " 310\n",
            "cluster_3 \n",
            " 751\n",
            "cluster_4 \n",
            " 155\n",
            "cluster_5 \n",
            " 390\n",
            "cluster_6 \n",
            " 355\n",
            "cluster_7 \n",
            " 326\n",
            "cluster_8 \n",
            " 254\n",
            "cluster_9 \n",
            " 478\n",
            "cluster_10 \n",
            " 233\n",
            "cluster_11 \n",
            " 274\n",
            "cluster_12 \n",
            " 194\n",
            "cluster_13 \n",
            " 252\n",
            "cluster_0 \n",
            " 159\n",
            "cluster_1 \n",
            " 606\n",
            "cluster_2 \n",
            " 405\n",
            "cluster_3 \n",
            " 1779\n",
            "cluster_4 \n",
            " 785\n",
            "cluster_5 \n",
            " 586\n",
            "cluster_6 \n",
            " 760\n",
            "cluster_7 \n",
            " 734\n",
            "cluster_8 \n",
            " 789\n",
            "cluster_9 \n",
            " 403\n",
            "cluster_10 \n",
            " 260\n",
            "cluster_11 \n",
            " 1276\n",
            "cluster_12 \n",
            " 952\n",
            "cluster_13 \n",
            " 487\n",
            "cluster_0 \n",
            " 25\n",
            "cluster_1 \n",
            " 227\n",
            "cluster_2 \n",
            " 150\n",
            "cluster_3 \n",
            " 517\n",
            "cluster_4 \n",
            " 173\n",
            "cluster_5 \n",
            " 196\n",
            "cluster_6 \n",
            " 206\n",
            "cluster_7 \n",
            " 259\n",
            "cluster_8 \n",
            " 244\n",
            "cluster_9 \n",
            " 171\n",
            "cluster_10 \n",
            " 100\n",
            "cluster_11 \n",
            " 341\n",
            "cluster_12 \n",
            " 206\n",
            "cluster_13 \n",
            " 207\n"
          ],
          "name": "stdout"
        }
      ]
    },
    {
      "cell_type": "markdown",
      "metadata": {
        "id": "hEVsItDIN4Cg"
      },
      "source": [
        "Notes on most common cluster occurrences in each label\n",
        "\n",
        "indic: 1, 2, 13    \n",
        "\n",
        "\n",
        "symptom:1, 3, 5(?)    \n",
        "\n",
        "\n",
        "contra:3, 11, 12(?)    \n",
        "\n",
        "\n",
        "effect:1(?), 3, 11(?)              "
      ]
    },
    {
      "cell_type": "code",
      "metadata": {
        "colab": {
          "base_uri": "https://localhost:8080/"
        },
        "id": "4o2q4s6zV8sc",
        "outputId": "dd242b34-a645-456d-b86d-49bd785cbcef"
      },
      "source": [
        "print(clusters_train_dict['cluster_11'])"
      ],
      "execution_count": 26,
      "outputs": [
        {
          "output_type": "stream",
          "text": [
            "[['shown', 'usp', 'cream', 'solution', 'adverse', 'injection', 'persons', 'preparation', 'levetiracetam', 'demonstrated', 'angioedema', 'warnings', 'formulation', 'precautions', 'reaction', 'tablets', 'drug', 'hydrochloride', 'component', 'anaphylaxis', 'excipients', 'product', 'reactions', 'history', 'ingredients', 'components', 'patients', 'known', 'contraindicated', 'hypersensitivity']]\n"
          ],
          "name": "stdout"
        }
      ]
    },
    {
      "cell_type": "code",
      "metadata": {
        "colab": {
          "base_uri": "https://localhost:8080/"
        },
        "id": "ZHVgeT5ExsCD",
        "outputId": "8d34ce9f-0778-4482-f91e-61b23ca1fd28"
      },
      "source": [
        "print(clusters_train_dict['cluster_3'])"
      ],
      "execution_count": 27,
      "outputs": [
        {
          "output_type": "stream",
          "text": [
            "[['inhibitor', 'management', 'years', '14', 'age', 'potassium', 'opioid', 'used', 'hypertension', 'drug', 'therapy', 'known', 'history', 'renal', 'acute', 'usp', 'clinical', 'hypersensitivity', 'severe', 'injection', 'disease', 'hydrochloride', 'precautions', 'contraindicated', 'warnings', 'use', 'tablets', 'treatment', 'indicated', 'patients']]\n"
          ],
          "name": "stdout"
        }
      ]
    },
    {
      "cell_type": "code",
      "metadata": {
        "id": "UI5WUoGDFAK-"
      },
      "source": [
        "# function to calculate the minimum distance between w1 and w2 in s\n",
        "# from https://www.geeksforgeeks.org/minimum-distance-between-words-of-a-string/\n",
        "  \n",
        "def distance(s, w1, w2):\n",
        "     \n",
        "    if w1 == w2 :\n",
        "       return 0\n",
        " \n",
        "    # get individual words in a list\n",
        "    words = s.split(\" \")\n",
        " \n",
        "    # assume total length of the string as\n",
        "    # minimum distance\n",
        "    min_dist = len(words)+1\n",
        " \n",
        "    # traverse through the entire string\n",
        "    for index in range(len(words)):\n",
        " \n",
        "        if words[index] == w1:\n",
        "            for search in range(len(words)):\n",
        " \n",
        "                if words[search] == w2:\n",
        " \n",
        "                    # the distance between the words is\n",
        "                    # the index of the first word - the\n",
        "                    # current word index\n",
        "                    curr = abs(index - search) - 1;\n",
        " \n",
        "                    # comparing current distance with\n",
        "                    # the previously assumed distance\n",
        "                    if curr < min_dist:\n",
        "                       min_dist = curr\n",
        " \n",
        "    # w1 and w2 are same and adjacent\n",
        "    return min_dist\n",
        "     "
      ],
      "execution_count": 28,
      "outputs": []
    },
    {
      "cell_type": "markdown",
      "metadata": {
        "id": "Z5MwcxHmA_Al"
      },
      "source": [
        "Note: the context strings are cleaned of all punctuation and do not contain any commas or full stops"
      ]
    },
    {
      "cell_type": "markdown",
      "metadata": {
        "id": "yKy0hTW4JGaZ"
      },
      "source": [
        "apparently, this doesnt work with the distance function for some reason, so for now I will try with regex instead."
      ]
    },
    {
      "cell_type": "code",
      "metadata": {
        "id": "c8OeXTVdASIe"
      },
      "source": [
        "# a labeling function that checks for word proximity\n",
        "\n",
        "# MM: LS, can you provide a link or indication of where you found this code please?\n",
        "# LS: I wrote this myself\n",
        "\n",
        "from snorkel.labeling import labeling_function\n",
        "\n",
        "@labeling_function()\n",
        "def contraindication_proximity(x):\n",
        "    return 1 if distance(x.Context, \"contraindicated\", x.disease) < 10 else ABSTAIN\n",
        "\n",
        "@labeling_function()\n",
        "def associated_proximity(x):\n",
        "    return 1 if distance(x.Context, \"associated\", x.disease) < 10 else ABSTAIN\n",
        "\n",
        "@labeling_function()\n",
        "def history_proximity(x):\n",
        "    return 1 if distance(x.Context, \"history\", x.disease) < 10 else ABSTAIN\n",
        "\n",
        "@labeling_function()\n",
        "def known_proximity(x):\n",
        "    return 1 if distance(x.Context, \"known\", x.disease) < 10 else ABSTAIN\n",
        "\n",
        "\n",
        "@labeling_function()\n",
        "def shown_proximity(x):\n",
        "    return 1 if distance(x.Context, \"shown\", x.disease) < 10 else ABSTAIN\n",
        "\n",
        "@labeling_function()\n",
        "def adverse_proximity(x):\n",
        "    return 1 if distance(x.Context, \"adverse\", x.disease) < 10 else ABSTAIN\n",
        "\n",
        "@labeling_function()\n",
        "def demonstrated_proximity(x):\n",
        "    return 1 if distance(x.Context, \"demonstrated\", x.disease) < 10 else ABSTAIN\n",
        "\n",
        "\n",
        "@labeling_function()\n",
        "def warnings_proximity(x):\n",
        "    return 1 if distance(x.Context, \"warnings\", x.disease) < 10 else ABSTAIN\n",
        "\n",
        "\n",
        "@labeling_function()\n",
        "def ingredients_proximity(x):\n",
        "    return 1 if distance(x.Context, \"ingredients\", x.disease) < 10 else ABSTAIN\n",
        "\n",
        "\n",
        "@labeling_function()\n",
        "def reaction_proximity(x):\n",
        "    return 1 if distance(x.Context, \"reaction\", x.disease) < 10 else ABSTAIN\n",
        "\n",
        "\n",
        "@labeling_function()\n",
        "def hypersensitivity_proximity(x):\n",
        "    return 1 if distance(x.Context, \"hypersensitivity\", x.disease) < 10 else ABSTAIN\n",
        "\n"
      ],
      "execution_count": 29,
      "outputs": []
    },
    {
      "cell_type": "code",
      "metadata": {
        "id": "RWqFNcjZjVSN"
      },
      "source": [
        "#does the same as the function above, only for indication istead\n",
        "\n",
        "\n",
        "@labeling_function()\n",
        "def indication_proximity(x):\n",
        "    return 3 if distance(x.Context, \"indicated\", x.disease) < 10 else ABSTAIN\n",
        "\n",
        "@labeling_function()\n",
        "def treatment_proximity(x):\n",
        "    return 3 if distance(x.Context, \"treatment\", x.disease) < 10 else ABSTAIN\n",
        "\n",
        "@labeling_function()\n",
        "def higher_proximity(x):\n",
        "    return 3 if distance(x.Context, \"higher\", x.disease) < 10 else ABSTAIN\n",
        "\n",
        "@labeling_function()\n",
        "def benefits_proximity(x):\n",
        "    return 3 if distance(x.Context, \"benefit\", x.disease) <10 else ABSTAIN\n",
        "\n",
        "@labeling_function()\n",
        "def reductions_proximity(x):\n",
        "    return 3 if distance(x.Context, \"reductions\", x.disease) < 10 else ABSTAIN\n",
        "\n",
        "@labeling_function()\n",
        "def reduction_proximity(x):\n",
        "    return 3 if distance(x.Context, \"reduction\", x.disease) < 10 else ABSTAIN\n",
        "\n",
        "@labeling_function()\n",
        "def acute_proximity(x):\n",
        "    return 3 if distance(x.Context, \"acute\", x.disease) < 10 else ABSTAIN\n",
        "\n"
      ],
      "execution_count": 30,
      "outputs": []
    },
    {
      "cell_type": "code",
      "metadata": {
        "id": "SRWJNU6jEA04"
      },
      "source": [
        "#for symptomatic relief\n",
        "\n",
        "@labeling_function()\n",
        "def term_proximity(x):\n",
        "    return 2 if distance(x.Context, \"term\", x.disease) < 10 else ABSTAIN\n",
        "\n",
        "@labeling_function()\n",
        "def maintenance_proximity(x):\n",
        "    return 2 if distance(x.Context, \"maintenance\", x.disease) < 10 else ABSTAIN\n"
      ],
      "execution_count": 31,
      "outputs": []
    },
    {
      "cell_type": "code",
      "metadata": {
        "id": "gqWGw_K2MUQR"
      },
      "source": [
        "\n",
        "@labeling_function()\n",
        "def disease_proximity(x):\n",
        "    return 0 if distance(x.Context, \"disease\", x.disease) < 10 else ABSTAIN\n",
        "\n",
        "@labeling_function()\n",
        "def history_proximity(x):\n",
        "    return 0 if distance(x.Context, \"history\", x.disease) < 10 else ABSTAIN\n",
        "\n",
        "\n"
      ],
      "execution_count": 32,
      "outputs": []
    },
    {
      "cell_type": "code",
      "metadata": {
        "id": "01x-rTK6MNEX"
      },
      "source": [
        "def replace_section(s):\n",
        "    if s ==\"Indication\": return \"Indications\"\n",
        "    if s ==\"Contraindication\":    return \"Contraindications\"\n",
        "    return s\n",
        "    \n",
        "df.Section= df.Section.apply(replace_section)"
      ],
      "execution_count": 33,
      "outputs": []
    },
    {
      "cell_type": "code",
      "metadata": {
        "id": "QY8AAYPsBB4D"
      },
      "source": [
        "@labeling_function()\n",
        "def proximity_complete(x):\n",
        "\n",
        "  section = x.Section\n",
        "\n",
        "\n",
        "#indications\n",
        "  if section == \"Indications\" and distance(x.Context, \"indicated\", x.disease) < 10: return 3\n",
        "  if section == \"Indications\" and distance(x.Context, \"treatment\", x.disease) < 10: return 3\n",
        "  if section == \"Indications\" and distance(x.Context, \"higher\", x.disease) < 10: return 3\n",
        "  if section == \"Indications\" and distance(x.Context, \"benefit\", x.disease) < 10: return 3\n",
        "  if section == \"Indications\" and distance(x.Context, \"reductions\", x.disease) < 10: return 3\n",
        "  if section == \"Indications\" and distance(x.Context, \"reduction\", x.disease) < 10: return 3\n",
        "  if section == \"Indications\" and distance(x.Context, \"acute\", x.disease) < 10: return 3\n",
        "\n",
        "#symptomatic relief\n",
        "  if section == \"Indications\" and distance(x.Context, \"maintenance\", x.disease) < 10: return 2\n",
        "  if section == \"Indications\" and distance(x.Context, \"term\", x.disease) < 10: return 2\n",
        "  if section == \"Indications\" and distance(x.Context, \"relief\", x.disease) < 10: return 2\n",
        "  if section == \"Indications\" and distance(x.Context, \"relief of\", x.disease) < 10: return 2\n",
        "\n",
        "#contraindication\n",
        "  if section == \"Contraindications\" and distance(x.Context, \"contraindicated\", x.disease) < 10: return 1\n",
        "  if section == \"Contraindications\" and distance(x.Context, \"associated\", x.disease) < 10: return 1\n",
        "  if section == \"Contraindications\" and distance(x.Context, \"history\", x.disease) < 10: return 1\n",
        "  if section == \"Contraindications\" and distance(x.Context, \"known\", x.disease) < 10: return 1\n",
        "  if section == \"Contraindications\" and distance(x.Context, \"shown\", x.disease) < 10: return 1\n",
        "  if section == \"Contraindications\" and distance(x.Context, \"adverse\", x.disease) < 10: return 1\n",
        "  if section == \"Contraindications\" and distance(x.Context, \"demonstrated\", x.disease) < 10: return 1\n",
        "  if section == \"Contraindications\" and distance(x.Context, \"warnings\", x.disease) < 10: return 1\n",
        "  if section == \"Contraindications\" and distance(x.Context, \"ingredients\", x.disease) < 10: return 1\n",
        "  if section == \"Contraindications\" and distance(x.Context, \"reaction\", x.disease) < 10: return 1\n",
        "  if section == \"Contraindications\" and distance(x.Context, \"hypersensitivity\", x.disease) < 10: return 1\n",
        "\n",
        "#effect\n",
        "  if section == \"Contraindications\" and distance(x.Context, \"disease\", x.disease) < 10: return 0\n",
        "  if section == \"Contraindications\" and distance(x.Context, \"term\", x.disease) < 10: return 0\n",
        "  if section == \"Contraindications\" and distance(x.Context, \"maintenance\", x.disease) < 10: return 0\n",
        "  if section == \"Contraindications\" and distance(x.Context, \"history\", x.disease) < 10: return 0\n",
        "\n",
        "  return ABSTAIN"
      ],
      "execution_count": 34,
      "outputs": []
    },
    {
      "cell_type": "code",
      "metadata": {
        "id": "4qv4cFrVUSR6"
      },
      "source": [
        "import re\n",
        "def contains(text, phrase):\n",
        "    return phrase in text\n",
        "    \n",
        "def phrase_match(row):\n",
        "    section = row.Section\n",
        "    text = row.Context\n",
        "    if section == \"Contraindications\" and contains(text, \"hypersensitivity to\" ): return \"1\"\n",
        "    if section == \"Contraindications\" and contains(text, \"hypersensitivity\" ): return \"1\"\n",
        "    if section == \"Contraindications\" and contains(text, \"are not candidates\" ): return \"1\"\n",
        "    if section == \"Contraindications\" and contains(text, \"contraindications\" ): return \"1\"\n",
        "    if section == \"Contraindications\" and contains(text, \"contraindicatedin\" ): return \"1\"\n",
        "    if section == \"Contraindications\" and contains(text, \"not administered to\" ): return \"1\"\n",
        "    if section == \"Contraindications\" and contains(text, \"contraindicated in\" ): return \"1\"\n",
        "    if section == \"Contraindications\" and contains(text, \"should not be used\" ): return \"1\"\n",
        "    if section == \"Contraindications\" and contains(text, \"is contraindication for\" ): return \"1\"\n",
        "    if section == \"Contraindications\" and contains(text, \"is contraindication when\" ): return \"1\"\n",
        "    if section == \"Contraindications\" and contains(text, \"is contraindicated when\" ): return \"1\"\n",
        "    if section == \"Contraindications\" and contains(text, \"must not be used for\" ): return \"1\"\n",
        "    if section == \"Contraindications\" and contains(text, \"do not administer\" ): return \"1\"\n",
        "    if section == \"Contraindications\" and contains(text, \"should not initiate\" ): return \"1\"\n",
        "    if section == \"Contraindications\" and contains(text, \"not be administered to\" ): return \"1\"\n",
        "    if section == \"Contraindications\" and contains(text, \"do not initiate patients\" ): return \"1\"\n",
        "    if section == \"Contraindications\" and contains(text, \"contraindication for\" ): return \"1\"\n",
        "    if section == \"Contraindications\" and contains(text, \"should not be given\" ): return \"1\"\n",
        "    if section == \"Contraindications\" and contains(text, \"do not use\" ): return \"1\"\n",
        "    if section == \"Contraindications\" and contains(text, \"should not be treated with\" ): return \"1\"\n",
        "    if section == \"Contraindications\" and contains(text, \"should not be employed\" ): return \"1\"\n",
        "\n",
        "    ## effect\n",
        "    if section == \"Contraindications\" and contains(text, \"adverse reactions\" ): return \"0\"\n",
        "    if section == \"Contraindications\" and contains(text, \"reactions\" ): return \"0\"\n",
        "    if section == \"Contraindications\" and contains(text, \"associated with the risk of\" ): return \"0\"\n",
        "    if section == \"Contraindications\" and contains(text, \"to the risk of\" ): return \"0\"\n",
        "    if section == \"Contraindications\" and contains(text, \"a high risk for\" ): return \"0\"\n",
        "    if section == \"Contraindications\" and contains(text, \"a high risk of\" ): return \"0\"\n",
        "    if section == \"Contraindications\" and contains(text, \"high incidence of\" ): return \"0\"\n",
        "    if section == \"Contraindications\" and contains(text, \"higher incidence of\" ): return \"0\"\n",
        "    if section == \"Contraindications\" and contains(text, \"cause\" ): return \"0\"\n",
        "    if section == \"Contraindications\" and contains(text, \"causes\" ): return \"0\"\n",
        "    if section == \"Contraindications\" and contains(text, \"symptoms occur\" ): return \"0\"\n",
        "    if section == \"Contraindications\" and contains(text, \"teratogenic\" ): return \"0\"\n",
        "    if section == \"Contraindications\" and contains(text, \"site reaction\" ): return \"0\"\n",
        "    if section == \"Contraindications\" and contains(text, \"the risk of development\" ): return \"0\"\n",
        "    if section == \"Contraindications\" and contains(text, \"is associated with the risk of\" ): return \"0\"\n",
        "    if section == \"Contraindications\" and contains(text, \"symptoms of the poisoning\" ): return \"0\"\n",
        "    if section == \"Contraindications\" and contains(text, \"symptoms of poisoning\" ): return \"0\"\n",
        "\n",
        "    ##relief\n",
        "    if section == \"Indications\" and contains(text, \"reduce symptoms\" ): return \"2\"\n",
        "    if section == \"Indications\" and contains(text, \"relief of the signs\" ): return \"2\"\n",
        "    if section == \"Indications\" and contains(text, \"relief of signs\" ): return \"2\"\n",
        "    if section == \"Indications\" and contains(text, \"relief of symptoms\" ): return \"2\"\n",
        "    if section == \"Indications\" and contains(text, \"relief of the symptoms\" ): return \"2\"\n",
        "    if section == \"Indications\" and contains(text, \"help\" ): return \"2\"\n",
        "    if section == \"Indications\" and contains(text, \"helps\" ): return \"2\"\n",
        "    if section == \"Indications\" and contains(text, \"relief of signs and symptoms of\" ): return \"2\"\n",
        "    if section == \"Indications\" and contains(text, \"reduction of symptoms of\" ): return \"2\"\n",
        "    if section == \"Indications\" and contains(text, \"treatment of the symptoms of\" ): return \"2\"\n",
        "    if section == \"Indications\" and contains(text, \"for the relief\" ): return \"2\"\n",
        "    if section == \"Indications\" and contains(text, \"management of the signs and symptoms of\" ): return \"2\"\n",
        "    if section == \"Indications\" and contains(text, \"provides an observable symptomatic benefit\" ): return \"2\"\n",
        "    if section == \"Indications\" and contains(text, \"until the condition is improved or corrected\" ): return \"2\"\n",
        "    if section == \"Indications\" and contains(text, \"until the condition is corrected\" ): return \"2\"\n",
        "    if section == \"Indications\" and contains(text, \"for short term administration\" ): return \"2\"\n",
        "    if section == \"Indications\" and contains(text, \"for short-term administration\" ): return \"2\"\n",
        "    if section == \"Indications\" and contains(text, \"prophylactically\" ): return \"2\"\n",
        "    if section == \"Indications\" and contains(text, \"controlling the manifestations\" ): return \"2\"\n",
        "    if section == \"Indications\" and contains(text, \"controlling the manifestation\" ): return \"2\"\n",
        "    if section == \"Indications\" and contains(text, \"controlling manifestations\" ): return \"2\"\n",
        "    if section == \"Indications\" and contains(text, \"controlling manifestation\" ): return \"2\"\n",
        "    if section == \"Indications\" and contains(text, \"control the manifestations\" ): return \"2\"\n",
        "    if section == \"Indications\" and contains(text, \"control the manifestation\" ): return \"2\"\n",
        "    if section == \"Indications\" and contains(text, \"control manifestations\" ): return \"2\"\n",
        "    if section == \"Indications\" and contains(text, \"control manifestation\" ): return \"2\"\n",
        "    if section == \"Indications\" and contains(text, \"symptomatic treatment\" ): return \"2\"\n",
        "    if section == \"Indications\" and contains(text, \"symptomatic relief\" ): return \"2\"\n",
        "    if section == \"Indications\" and contains(text, \"symptomatic benefit\" ): return \"2\"\n",
        "    if section == \"Indications\" and contains(text, \"not indicated for definitive treatment\" ): return \"2\"\n",
        "    if section == \"Indications\" and contains(text, \"treatment of the signs and symptoms\" ): return \"2\"\n",
        "\n",
        "    ##treatment\n",
        "    if section == \"Indications\" and contains(text, \"indicated for the treatment of\" ): return \"3\"\n",
        "    if section == \"Indications\" and contains(text, \"indicated in the management of\" ): return \"3\"\n",
        "    if section == \"Indications\" and contains(text, \"indicated for the management of\" ): return \"3\"\n",
        "    if section == \"Indications\" and contains(text, \"for the management of\" ): return \"3\"\n",
        "    if section == \"Indications\" and contains(text, \"management of\" ): return \"3\"\n",
        "    if section == \"Indications\" and contains(text, \"indicated for the maintenance of remission\" ): return \"3\"\n",
        "    if section == \"Indications\" and contains(text, \"or the treatment of\" ): return \"3\"\n",
        "    if section == \"Indications\" and contains(text, \"in the treatment of\" ): return \"3\"\n",
        "    if section == \"Indications\" and contains(text, \"indicated as\" ): return \"3\"\n",
        "    if section == \"Indications\" and contains(text, \"indicated in\" ): return \"3\"\n",
        "    if section == \"Indications\" and contains(text, \"be effective\" ): return \"3\"\n",
        "    if section == \"Indications\" and contains(text, \"effective\" ): return \"3\"\n",
        "    if section == \"Indications\" and contains(text, \"active treatment of\" ): return \"3\"\n",
        "    if section == \"Indications\" and contains(text, \"indicated for\" ): return \"3\"\n",
        "    if section == \"Indications\" and contains(text, \"treatment of\" ): return \"3\"\n",
        "    if section == \"Indications\" and contains(text, \"indicated as an adjunct\" ): return \"3\"\n",
        "    if section == \"Indications\" and contains(text, \"indicated for use in the treatment of\" ): return \"3\"\n",
        "    if section == \"Indications\" and contains(text, \"indicated for the intermittent treatment\" ): return \"3\"\n",
        "    if section == \"Indications\" and contains(text, \"indicated to reduce the rate of\" ): return \"3\"\n",
        "    if section == \"Indications\" and contains(text, \"indicated for the rapid control\" ): return \"3\"\n",
        "    if section == \"Indications\" and contains(text, \"indicated for the control\" ): return \"3\"\n",
        "    if section == \"Indications\" and contains(text, \"reduce the risk of\" ): return \"3\"\n",
        "    if section == \"Indications\" and contains(text, \"indicated as adjunctive treatment\" ): return \"3\"\n",
        "    if section == \"Indications\" and contains(text, \"for the treatment of\" ): return \"3\"\n",
        "    if section == \"Indications\" and contains(text, \"indicated as an adjunct\" ): return \"3\"\n",
        "\n",
        "    ##else\n",
        "    if section == \"Indications\" : return \"3\"\n",
        "    if section == \"Contraindications\": return \"1\"\n",
        "    if section == \"Indication\": return \"3\"\n",
        "    if section == \"Contraindication\" : return \"1\"\n",
        "    return None\n",
        " "
      ],
      "execution_count": 35,
      "outputs": []
    },
    {
      "cell_type": "code",
      "metadata": {
        "id": "rRNPFfJdS-JF"
      },
      "source": [
        "phrases = {'a high risk for ':CATEGORY['Effect'],\n",
        "           ' indicated for':CATEGORY['Treatment'], \n",
        "           'contraindicated in ':CATEGORY['Contraindication'],\n",
        "           'relief of the symptoms ':CATEGORY['Symptomatic Relief'],\n",
        "          }  "
      ],
      "execution_count": 36,
      "outputs": []
    },
    {
      "cell_type": "code",
      "metadata": {
        "id": "mEGwbE2eMlNk"
      },
      "source": [
        "#this code is not working... missing package??\n",
        "\n",
        "\n",
        "#crowd_df =df[df.crowd_label.notna()]\n",
        "#crowd_df.crowd_label =crowd_df.crowd_label.astype(int)"
      ],
      "execution_count": 37,
      "outputs": []
    },
    {
      "cell_type": "code",
      "metadata": {
        "id": "S3jjKDWXMs5j",
        "colab": {
          "base_uri": "https://localhost:8080/",
          "height": 180
        },
        "outputId": "95f4d56e-9d5b-4698-fdbf-43625eeb8efa"
      },
      "source": [
        "X_train = crowd_df['Context']\n",
        "y_train = crowd_df['crowd_label']"
      ],
      "execution_count": 38,
      "outputs": [
        {
          "output_type": "error",
          "ename": "NameError",
          "evalue": "ignored",
          "traceback": [
            "\u001b[0;31m---------------------------------------------------------------------------\u001b[0m",
            "\u001b[0;31mNameError\u001b[0m                                 Traceback (most recent call last)",
            "\u001b[0;32m<ipython-input-38-5acd33ee7865>\u001b[0m in \u001b[0;36m<module>\u001b[0;34m()\u001b[0m\n\u001b[0;32m----> 1\u001b[0;31m \u001b[0mX_train\u001b[0m \u001b[0;34m=\u001b[0m \u001b[0mcrowd_df\u001b[0m\u001b[0;34m[\u001b[0m\u001b[0;34m'Context'\u001b[0m\u001b[0;34m]\u001b[0m\u001b[0;34m\u001b[0m\u001b[0;34m\u001b[0m\u001b[0m\n\u001b[0m\u001b[1;32m      2\u001b[0m \u001b[0my_train\u001b[0m \u001b[0;34m=\u001b[0m \u001b[0mcrowd_df\u001b[0m\u001b[0;34m[\u001b[0m\u001b[0;34m'crowd_label'\u001b[0m\u001b[0;34m]\u001b[0m\u001b[0;34m\u001b[0m\u001b[0;34m\u001b[0m\u001b[0m\n",
            "\u001b[0;31mNameError\u001b[0m: name 'crowd_df' is not defined"
          ]
        }
      ]
    },
    {
      "cell_type": "code",
      "metadata": {
        "id": "JhtHSGS2MuoC"
      },
      "source": [
        "pipeline = Pipeline([\n",
        "    ('vect', CountVectorizer()),\n",
        "    ('tfidf', TfidfTransformer()),\n",
        "    ('clf', DecisionTreeClassifier()),\n",
        "])\n",
        "pipeline.fit(X_train, y_train)"
      ],
      "execution_count": null,
      "outputs": []
    },
    {
      "cell_type": "code",
      "metadata": {
        "id": "P82oweosMzMS"
      },
      "source": [
        "text = crowd_df.iloc[0].Context\n",
        "result = pipeline.predict([text])"
      ],
      "execution_count": null,
      "outputs": []
    },
    {
      "cell_type": "code",
      "metadata": {
        "id": "l_Nbc-_8SRUt"
      },
      "source": [
        "result[0]"
      ],
      "execution_count": null,
      "outputs": []
    },
    {
      "cell_type": "code",
      "metadata": {
        "id": "MvvbR9lzNPHv"
      },
      "source": [
        "@labeling_function()\n",
        "def phrase_occur(x):\n",
        "    label = phrase_match(x)\n",
        "    if label != None:\n",
        "        return int(label)\n",
        "    return ABSTAIN\n",
        "\n",
        "@labeling_function()\n",
        "def label_fun(x):\n",
        "    text = x.Context\n",
        "    for p in phrases:\n",
        "        if p in text:\n",
        "            return phrases[p]\n",
        "    return ABSTAIN\n",
        "\n",
        "@labeling_function()\n",
        "def pre_ml_fun(x):\n",
        "    text = x.Context\n",
        "    result = pipeline.predict([text])\n",
        "    return result[0]"
      ],
      "execution_count": 39,
      "outputs": []
    },
    {
      "cell_type": "code",
      "metadata": {
        "id": "VVUJpca3Hdc0",
        "colab": {
          "base_uri": "https://localhost:8080/"
        },
        "outputId": "6728b9f6-3981-4ddb-ce0c-088342abed3f"
      },
      "source": [
        "# from the snorkel spam tutorial\n",
        "# creates the label matrix\n",
        "\n",
        "from snorkel.labeling import PandasLFApplier\n",
        "\n",
        "lfs = [proximity_complete, phrase_occur, label_fun]\n",
        "\n",
        "applier = PandasLFApplier(lfs=lfs)\n",
        "L_train = applier.apply(df=df)"
      ],
      "execution_count": 41,
      "outputs": [
        {
          "output_type": "stream",
          "text": [
            "/usr/local/lib/python3.7/dist-packages/tqdm/std.py:658: FutureWarning: The Panel class is removed from pandas. Accessing it from the top-level namespace will also be removed in the next version\n",
            "  from pandas import Panel\n",
            "100%|██████████| 54040/54040 [00:37<00:00, 1430.47it/s]\n"
          ],
          "name": "stderr"
        }
      ]
    },
    {
      "cell_type": "code",
      "metadata": {
        "id": "hl-CtTkkbPiW",
        "colab": {
          "base_uri": "https://localhost:8080/",
          "height": 142
        },
        "outputId": "83676e3d-817a-4f2a-b2e2-e97ab2c57364"
      },
      "source": [
        "from snorkel.labeling import LFAnalysis\n",
        "\n",
        "LFAnalysis(L_train, lfs).lf_summary()\n"
      ],
      "execution_count": 42,
      "outputs": [
        {
          "output_type": "execute_result",
          "data": {
            "text/html": [
              "<div>\n",
              "<style scoped>\n",
              "    .dataframe tbody tr th:only-of-type {\n",
              "        vertical-align: middle;\n",
              "    }\n",
              "\n",
              "    .dataframe tbody tr th {\n",
              "        vertical-align: top;\n",
              "    }\n",
              "\n",
              "    .dataframe thead th {\n",
              "        text-align: right;\n",
              "    }\n",
              "</style>\n",
              "<table border=\"1\" class=\"dataframe\">\n",
              "  <thead>\n",
              "    <tr style=\"text-align: right;\">\n",
              "      <th></th>\n",
              "      <th>j</th>\n",
              "      <th>Polarity</th>\n",
              "      <th>Coverage</th>\n",
              "      <th>Overlaps</th>\n",
              "      <th>Conflicts</th>\n",
              "    </tr>\n",
              "  </thead>\n",
              "  <tbody>\n",
              "    <tr>\n",
              "      <th>proximity_complete</th>\n",
              "      <td>0</td>\n",
              "      <td>[0, 1, 2, 3]</td>\n",
              "      <td>0.404127</td>\n",
              "      <td>0.404127</td>\n",
              "      <td>0.043172</td>\n",
              "    </tr>\n",
              "    <tr>\n",
              "      <th>phrase_occur</th>\n",
              "      <td>1</td>\n",
              "      <td>[0, 1, 2, 3]</td>\n",
              "      <td>1.000000</td>\n",
              "      <td>0.791895</td>\n",
              "      <td>0.087879</td>\n",
              "    </tr>\n",
              "    <tr>\n",
              "      <th>label_fun</th>\n",
              "      <td>2</td>\n",
              "      <td>[1, 3]</td>\n",
              "      <td>0.693357</td>\n",
              "      <td>0.693357</td>\n",
              "      <td>0.065674</td>\n",
              "    </tr>\n",
              "  </tbody>\n",
              "</table>\n",
              "</div>"
            ],
            "text/plain": [
              "                    j      Polarity  Coverage  Overlaps  Conflicts\n",
              "proximity_complete  0  [0, 1, 2, 3]  0.404127  0.404127   0.043172\n",
              "phrase_occur        1  [0, 1, 2, 3]  1.000000  0.791895   0.087879\n",
              "label_fun           2        [1, 3]  0.693357  0.693357   0.065674"
            ]
          },
          "metadata": {
            "tags": []
          },
          "execution_count": 42
        }
      ]
    },
    {
      "cell_type": "code",
      "metadata": {
        "id": "2M4h-6hU_L8z",
        "colab": {
          "base_uri": "https://localhost:8080/"
        },
        "outputId": "b11ad1f1-6e57-42bf-9125-17ace0baf616"
      },
      "source": [
        "LFAnalysis(L_train, lfs).label_coverage()"
      ],
      "execution_count": 43,
      "outputs": [
        {
          "output_type": "execute_result",
          "data": {
            "text/plain": [
              "1.0"
            ]
          },
          "metadata": {
            "tags": []
          },
          "execution_count": 43
        }
      ]
    },
    {
      "cell_type": "code",
      "metadata": {
        "colab": {
          "base_uri": "https://localhost:8080/",
          "height": 306
        },
        "id": "4RviCOE7waCl",
        "outputId": "78622ebc-8e08-4662-b38a-0a98044046f4"
      },
      "source": [
        "df_test.head()"
      ],
      "execution_count": 48,
      "outputs": [
        {
          "output_type": "execute_result",
          "data": {
            "text/html": [
              "<div>\n",
              "<style scoped>\n",
              "    .dataframe tbody tr th:only-of-type {\n",
              "        vertical-align: middle;\n",
              "    }\n",
              "\n",
              "    .dataframe tbody tr th {\n",
              "        vertical-align: top;\n",
              "    }\n",
              "\n",
              "    .dataframe thead th {\n",
              "        text-align: right;\n",
              "    }\n",
              "</style>\n",
              "<table border=\"1\" class=\"dataframe\">\n",
              "  <thead>\n",
              "    <tr style=\"text-align: right;\">\n",
              "      <th></th>\n",
              "      <th>Unnamed: 0</th>\n",
              "      <th>DB_ID</th>\n",
              "      <th>DO_ID</th>\n",
              "      <th>disease</th>\n",
              "      <th>Label_ID</th>\n",
              "      <th>Set_ID</th>\n",
              "      <th>Drug_name</th>\n",
              "      <th>Context</th>\n",
              "      <th>Section</th>\n",
              "      <th>label</th>\n",
              "    </tr>\n",
              "  </thead>\n",
              "  <tbody>\n",
              "    <tr>\n",
              "      <th>0</th>\n",
              "      <td>0</td>\n",
              "      <td>DB00657</td>\n",
              "      <td>DOID_10824</td>\n",
              "      <td>malignant hypertension</td>\n",
              "      <td>976f404f-4857-4bad-9a3c-9bf3d5ca9f5b.xml</td>\n",
              "      <td>c6822ce4-e741-4366-b72a-5f5146354f97</td>\n",
              "      <td>Mecamylamine</td>\n",
              "      <td>for the management of moderately severe to sev...</td>\n",
              "      <td>Indications</td>\n",
              "      <td>Indication: Treatment</td>\n",
              "    </tr>\n",
              "    <tr>\n",
              "      <th>1</th>\n",
              "      <td>1</td>\n",
              "      <td>DB00401</td>\n",
              "      <td>DOID_10763</td>\n",
              "      <td>hypertension</td>\n",
              "      <td>ce733b39-7857-4538-92d6-1c68a4e4eb75.xml</td>\n",
              "      <td>a6a8a8ba-3966-4f37-a58b-44d3b05bdc4e</td>\n",
              "      <td>Nisoldipine</td>\n",
              "      <td>nisoldipine extended release tablets are indic...</td>\n",
              "      <td>Indications</td>\n",
              "      <td>Indication: Treatment</td>\n",
              "    </tr>\n",
              "    <tr>\n",
              "      <th>2</th>\n",
              "      <td>2</td>\n",
              "      <td>DB00612</td>\n",
              "      <td>DOID_10763</td>\n",
              "      <td>hypertension</td>\n",
              "      <td>c818c38d-ee37-4ceb-b078-611483b4f743.xml</td>\n",
              "      <td>c818c38d-ee37-4ceb-b078-611483b4f743</td>\n",
              "      <td>Bisoprolol</td>\n",
              "      <td>bisoprolol fumarate tablets usp are indicated ...</td>\n",
              "      <td>Indications</td>\n",
              "      <td>Indication: Treatment</td>\n",
              "    </tr>\n",
              "    <tr>\n",
              "      <th>3</th>\n",
              "      <td>3</td>\n",
              "      <td>DB00960</td>\n",
              "      <td>DOID_10763</td>\n",
              "      <td>hypertension</td>\n",
              "      <td>d4078b63-30ad-435b-a081-4d90562962b5.xml</td>\n",
              "      <td>b5a5a1e9-ee9b-41b1-b2d5-5f5834b816a7</td>\n",
              "      <td>Pindolol</td>\n",
              "      <td>pindolol tablets are indicated in the manageme...</td>\n",
              "      <td>Indications</td>\n",
              "      <td>Indication: Treatment</td>\n",
              "    </tr>\n",
              "    <tr>\n",
              "      <th>4</th>\n",
              "      <td>4</td>\n",
              "      <td>DB00876</td>\n",
              "      <td>DOID_10763</td>\n",
              "      <td>hypertension</td>\n",
              "      <td>ab531d28-345b-4113-9fde-00cd63ad5b1a.xml</td>\n",
              "      <td>64fbc500-3b77-4c9c-8576-b3ec5f6655a5</td>\n",
              "      <td>Eprosartan</td>\n",
              "      <td>eprosartan mesylate tablets are indicated for ...</td>\n",
              "      <td>Indications</td>\n",
              "      <td>Indication: Treatment</td>\n",
              "    </tr>\n",
              "  </tbody>\n",
              "</table>\n",
              "</div>"
            ],
            "text/plain": [
              "   Unnamed: 0    DB_ID  ...      Section                  label\n",
              "0           0  DB00657  ...  Indications  Indication: Treatment\n",
              "1           1  DB00401  ...  Indications  Indication: Treatment\n",
              "2           2  DB00612  ...  Indications  Indication: Treatment\n",
              "3           3  DB00960  ...  Indications  Indication: Treatment\n",
              "4           4  DB00876  ...  Indications  Indication: Treatment\n",
              "\n",
              "[5 rows x 10 columns]"
            ]
          },
          "metadata": {
            "tags": []
          },
          "execution_count": 48
        }
      ]
    },
    {
      "cell_type": "code",
      "metadata": {
        "colab": {
          "base_uri": "https://localhost:8080/"
        },
        "id": "sYStoLR5xGUO",
        "outputId": "25c43ae0-fa2b-4a2f-b81f-d0bf3e75a828"
      },
      "source": [
        "df_test.label.unique()"
      ],
      "execution_count": 49,
      "outputs": [
        {
          "output_type": "execute_result",
          "data": {
            "text/plain": [
              "array(['Indication: Treatment', 'Effect',\n",
              "       'Indication: Symptomatic Relief', 'Contraindication'], dtype=object)"
            ]
          },
          "metadata": {
            "tags": []
          },
          "execution_count": 49
        }
      ]
    },
    {
      "cell_type": "code",
      "metadata": {
        "id": "NecUFhXYw69q"
      },
      "source": [
        ""
      ],
      "execution_count": null,
      "outputs": []
    },
    {
      "cell_type": "code",
      "metadata": {
        "colab": {
          "base_uri": "https://localhost:8080/",
          "height": 213
        },
        "id": "d2PJcKZ2wQuR",
        "outputId": "03e23009-2a7a-40d1-9ea1-285912d9b0e8"
      },
      "source": [
        "from snorkel.labeling import PandasLFApplier, LFAnalysis\n",
        "applier = PandasLFApplier(lfs)\n",
        "L_dev = applier.apply(df_test)\n",
        "\n",
        "df_test.label=df_test.label.replace({'Effect': 0,\n",
        "'Contraindication': 1,\n",
        "'Indication: Symptomatic Relief': 2,\n",
        "'Indication: Treatment':3})\n",
        "\n",
        "LFAnalysis(L_dev, lfs).lf_summary(df_test['label'].values)\n"
      ],
      "execution_count": 50,
      "outputs": [
        {
          "output_type": "stream",
          "text": [
            "/usr/local/lib/python3.7/dist-packages/tqdm/std.py:658: FutureWarning: The Panel class is removed from pandas. Accessing it from the top-level namespace will also be removed in the next version\n",
            "  from pandas import Panel\n",
            "100%|██████████| 281/281 [00:00<00:00, 2679.37it/s]\n"
          ],
          "name": "stderr"
        },
        {
          "output_type": "execute_result",
          "data": {
            "text/html": [
              "<div>\n",
              "<style scoped>\n",
              "    .dataframe tbody tr th:only-of-type {\n",
              "        vertical-align: middle;\n",
              "    }\n",
              "\n",
              "    .dataframe tbody tr th {\n",
              "        vertical-align: top;\n",
              "    }\n",
              "\n",
              "    .dataframe thead th {\n",
              "        text-align: right;\n",
              "    }\n",
              "</style>\n",
              "<table border=\"1\" class=\"dataframe\">\n",
              "  <thead>\n",
              "    <tr style=\"text-align: right;\">\n",
              "      <th></th>\n",
              "      <th>j</th>\n",
              "      <th>Polarity</th>\n",
              "      <th>Coverage</th>\n",
              "      <th>Overlaps</th>\n",
              "      <th>Conflicts</th>\n",
              "      <th>Correct</th>\n",
              "      <th>Incorrect</th>\n",
              "      <th>Emp. Acc.</th>\n",
              "    </tr>\n",
              "  </thead>\n",
              "  <tbody>\n",
              "    <tr>\n",
              "      <th>proximity_complete</th>\n",
              "      <td>0</td>\n",
              "      <td>[0, 1, 2, 3]</td>\n",
              "      <td>0.380783</td>\n",
              "      <td>0.380783</td>\n",
              "      <td>0.096085</td>\n",
              "      <td>76</td>\n",
              "      <td>31</td>\n",
              "      <td>0.710280</td>\n",
              "    </tr>\n",
              "    <tr>\n",
              "      <th>phrase_occur</th>\n",
              "      <td>1</td>\n",
              "      <td>[0, 1, 2, 3]</td>\n",
              "      <td>1.000000</td>\n",
              "      <td>0.811388</td>\n",
              "      <td>0.170819</td>\n",
              "      <td>239</td>\n",
              "      <td>42</td>\n",
              "      <td>0.850534</td>\n",
              "    </tr>\n",
              "    <tr>\n",
              "      <th>label_fun</th>\n",
              "      <td>2</td>\n",
              "      <td>[1, 3]</td>\n",
              "      <td>0.725979</td>\n",
              "      <td>0.725979</td>\n",
              "      <td>0.142349</td>\n",
              "      <td>144</td>\n",
              "      <td>60</td>\n",
              "      <td>0.705882</td>\n",
              "    </tr>\n",
              "  </tbody>\n",
              "</table>\n",
              "</div>"
            ],
            "text/plain": [
              "                    j      Polarity  Coverage  ...  Correct  Incorrect  Emp. Acc.\n",
              "proximity_complete  0  [0, 1, 2, 3]  0.380783  ...       76         31   0.710280\n",
              "phrase_occur        1  [0, 1, 2, 3]  1.000000  ...      239         42   0.850534\n",
              "label_fun           2        [1, 3]  0.725979  ...      144         60   0.705882\n",
              "\n",
              "[3 rows x 8 columns]"
            ]
          },
          "metadata": {
            "tags": []
          },
          "execution_count": 50
        }
      ]
    },
    {
      "cell_type": "code",
      "metadata": {
        "id": "amG9sj36Q5Ih"
      },
      "source": [
        "from snorkel.labeling.model import LabelModel\n",
        "\n",
        "label_model = LabelModel(cardinality=4, verbose=True)\n",
        "label_model.fit(L_train=L_train, n_epochs=500, log_freq=100, seed=123)"
      ],
      "execution_count": 51,
      "outputs": []
    },
    {
      "cell_type": "code",
      "metadata": {
        "colab": {
          "base_uri": "https://localhost:8080/"
        },
        "id": "RrjCTXgoRSoO",
        "outputId": "21f5d316-9b0a-4a8c-f1e2-1134d3134aae"
      },
      "source": [
        "L_dev = applier.apply(df_test)"
      ],
      "execution_count": 52,
      "outputs": [
        {
          "output_type": "stream",
          "text": [
            "/usr/local/lib/python3.7/dist-packages/tqdm/std.py:658: FutureWarning: The Panel class is removed from pandas. Accessing it from the top-level namespace will also be removed in the next version\n",
            "  from pandas import Panel\n",
            "100%|██████████| 281/281 [00:00<00:00, 2630.80it/s]\n"
          ],
          "name": "stderr"
        }
      ]
    },
    {
      "cell_type": "code",
      "metadata": {
        "colab": {
          "base_uri": "https://localhost:8080/"
        },
        "id": "SKveU0XtRUgw",
        "outputId": "ef643047-a01c-4483-e819-ff9f49e8c4d1"
      },
      "source": [
        "Y_dev = df_test.label\n",
        "Y_dev"
      ],
      "execution_count": 53,
      "outputs": [
        {
          "output_type": "execute_result",
          "data": {
            "text/plain": [
              "0      3\n",
              "1      3\n",
              "2      3\n",
              "3      3\n",
              "4      3\n",
              "      ..\n",
              "276    1\n",
              "277    1\n",
              "278    1\n",
              "279    1\n",
              "280    1\n",
              "Name: label, Length: 281, dtype: int64"
            ]
          },
          "metadata": {
            "tags": []
          },
          "execution_count": 53
        }
      ]
    },
    {
      "cell_type": "code",
      "metadata": {
        "colab": {
          "base_uri": "https://localhost:8080/"
        },
        "id": "Xx7X0F2KRl_B",
        "outputId": "fb42c1a8-efc9-47b3-d117-233ba28283ef"
      },
      "source": [
        "from snorkel.analysis import metric_score\n",
        "from snorkel.utils import probs_to_preds\n",
        "\n",
        "probs_dev = label_model.predict_proba(L_dev)\n",
        "preds_dev = probs_to_preds(probs_dev)\n",
        "print(\n",
        "    f\"Label model f1 score: {metric_score(Y_dev, preds_dev, probs=probs_dev, metric='f1_macro')}\"\n",
        ")\n",
        "print(\n",
        "    f\"Label model roc-auc: {metric_score(Y_dev, preds_dev, probs=probs_dev, metric='accuracy')}\"\n",
        ")"
      ],
      "execution_count": 69,
      "outputs": [
        {
          "output_type": "stream",
          "text": [
            "Label model f1 score: 0.6081427438332907\n",
            "Label model roc-auc: 0.8078291814946619\n"
          ],
          "name": "stdout"
        }
      ]
    },
    {
      "cell_type": "code",
      "metadata": {
        "colab": {
          "base_uri": "https://localhost:8080/",
          "height": 142
        },
        "id": "nPuXfvXxR9KF",
        "outputId": "fada0172-4270-48d3-b931-c59c26f7419e"
      },
      "source": [
        "from snorkel.labeling import LFAnalysis\n",
        "LFAnalysis(L_dev, lfs).lf_summary(Y_dev.values).head()"
      ],
      "execution_count": 55,
      "outputs": [
        {
          "output_type": "execute_result",
          "data": {
            "text/html": [
              "<div>\n",
              "<style scoped>\n",
              "    .dataframe tbody tr th:only-of-type {\n",
              "        vertical-align: middle;\n",
              "    }\n",
              "\n",
              "    .dataframe tbody tr th {\n",
              "        vertical-align: top;\n",
              "    }\n",
              "\n",
              "    .dataframe thead th {\n",
              "        text-align: right;\n",
              "    }\n",
              "</style>\n",
              "<table border=\"1\" class=\"dataframe\">\n",
              "  <thead>\n",
              "    <tr style=\"text-align: right;\">\n",
              "      <th></th>\n",
              "      <th>j</th>\n",
              "      <th>Polarity</th>\n",
              "      <th>Coverage</th>\n",
              "      <th>Overlaps</th>\n",
              "      <th>Conflicts</th>\n",
              "      <th>Correct</th>\n",
              "      <th>Incorrect</th>\n",
              "      <th>Emp. Acc.</th>\n",
              "    </tr>\n",
              "  </thead>\n",
              "  <tbody>\n",
              "    <tr>\n",
              "      <th>proximity_complete</th>\n",
              "      <td>0</td>\n",
              "      <td>[0, 1, 2, 3]</td>\n",
              "      <td>0.380783</td>\n",
              "      <td>0.380783</td>\n",
              "      <td>0.096085</td>\n",
              "      <td>76</td>\n",
              "      <td>31</td>\n",
              "      <td>0.710280</td>\n",
              "    </tr>\n",
              "    <tr>\n",
              "      <th>phrase_occur</th>\n",
              "      <td>1</td>\n",
              "      <td>[0, 1, 2, 3]</td>\n",
              "      <td>1.000000</td>\n",
              "      <td>0.811388</td>\n",
              "      <td>0.170819</td>\n",
              "      <td>239</td>\n",
              "      <td>42</td>\n",
              "      <td>0.850534</td>\n",
              "    </tr>\n",
              "    <tr>\n",
              "      <th>label_fun</th>\n",
              "      <td>2</td>\n",
              "      <td>[1, 3]</td>\n",
              "      <td>0.725979</td>\n",
              "      <td>0.725979</td>\n",
              "      <td>0.142349</td>\n",
              "      <td>144</td>\n",
              "      <td>60</td>\n",
              "      <td>0.705882</td>\n",
              "    </tr>\n",
              "  </tbody>\n",
              "</table>\n",
              "</div>"
            ],
            "text/plain": [
              "                    j      Polarity  Coverage  ...  Correct  Incorrect  Emp. Acc.\n",
              "proximity_complete  0  [0, 1, 2, 3]  0.380783  ...       76         31   0.710280\n",
              "phrase_occur        1  [0, 1, 2, 3]  1.000000  ...      239         42   0.850534\n",
              "label_fun           2        [1, 3]  0.725979  ...      144         60   0.705882\n",
              "\n",
              "[3 rows x 8 columns]"
            ]
          },
          "metadata": {
            "tags": []
          },
          "execution_count": 55
        }
      ]
    },
    {
      "cell_type": "code",
      "metadata": {
        "id": "r88UxmJ_TfcI"
      },
      "source": [
        "y_train_predict =label_model.predict(L_train)"
      ],
      "execution_count": 56,
      "outputs": []
    },
    {
      "cell_type": "code",
      "metadata": {
        "colab": {
          "base_uri": "https://localhost:8080/"
        },
        "id": "I_FUx8Xjy0H8",
        "outputId": "c1e39f19-e1b6-469b-da9e-026cb27f7730"
      },
      "source": [
        "y_train_predict"
      ],
      "execution_count": 58,
      "outputs": [
        {
          "output_type": "execute_result",
          "data": {
            "text/plain": [
              "array([1, 1, 1, ..., 3, 3, 3])"
            ]
          },
          "metadata": {
            "tags": []
          },
          "execution_count": 58
        }
      ]
    },
    {
      "cell_type": "code",
      "metadata": {
        "id": "DH8tUf2vy6Fe"
      },
      "source": [
        "df['label']= y_train_predict"
      ],
      "execution_count": 59,
      "outputs": []
    },
    {
      "cell_type": "code",
      "metadata": {
        "id": "2H0d61OHTlCZ"
      },
      "source": [
        "df = df[df.label != ABSTAIN]"
      ],
      "execution_count": 60,
      "outputs": []
    },
    {
      "cell_type": "code",
      "metadata": {
        "id": "4bc43phRzKZy"
      },
      "source": [
        "from sklearn.pipeline import Pipeline\n",
        "from sklearn.feature_extraction.text import CountVectorizer\n",
        "from sklearn.feature_extraction.text import TfidfTransformer\n",
        "from sklearn.tree import DecisionTreeClassifier"
      ],
      "execution_count": 61,
      "outputs": []
    },
    {
      "cell_type": "code",
      "metadata": {
        "id": "FrUVlWyUzP7j"
      },
      "source": [
        "pipeline = Pipeline([\n",
        "    ('vect', CountVectorizer()),\n",
        "    ('tfidf', TfidfTransformer()),\n",
        "    ('clf', DecisionTreeClassifier()),\n",
        "])"
      ],
      "execution_count": 62,
      "outputs": []
    },
    {
      "cell_type": "code",
      "metadata": {
        "id": "92nhe6vWzSwx"
      },
      "source": [
        "X_train = df['Context']\n",
        "y_train = df['label']"
      ],
      "execution_count": 64,
      "outputs": []
    },
    {
      "cell_type": "code",
      "metadata": {
        "id": "Q-0ngp43zZKk"
      },
      "source": [
        "X_test = df_test['Context']\n",
        "y_test = df_test['label']"
      ],
      "execution_count": 66,
      "outputs": []
    },
    {
      "cell_type": "code",
      "metadata": {
        "colab": {
          "base_uri": "https://localhost:8080/"
        },
        "id": "GNDC_ARXzeZK",
        "outputId": "e7e1db46-d95a-4cd5-f43f-4c5f365a4eab"
      },
      "source": [
        "pipeline.fit(X_train, y_train)"
      ],
      "execution_count": 67,
      "outputs": [
        {
          "output_type": "execute_result",
          "data": {
            "text/plain": [
              "Pipeline(memory=None,\n",
              "         steps=[('vect',\n",
              "                 CountVectorizer(analyzer='word', binary=False,\n",
              "                                 decode_error='strict',\n",
              "                                 dtype=<class 'numpy.int64'>, encoding='utf-8',\n",
              "                                 input='content', lowercase=True, max_df=1.0,\n",
              "                                 max_features=None, min_df=1,\n",
              "                                 ngram_range=(1, 1), preprocessor=None,\n",
              "                                 stop_words=None, strip_accents=None,\n",
              "                                 token_pattern='(?u)\\\\b\\\\w\\\\w+\\\\b',\n",
              "                                 tokenizer=None, vocabulary=Non...\n",
              "                                  sublinear_tf=False, use_idf=True)),\n",
              "                ('clf',\n",
              "                 DecisionTreeClassifier(ccp_alpha=0.0, class_weight=None,\n",
              "                                        criterion='gini', max_depth=None,\n",
              "                                        max_features=None, max_leaf_nodes=None,\n",
              "                                        min_impurity_decrease=0.0,\n",
              "                                        min_impurity_split=None,\n",
              "                                        min_samples_leaf=1, min_samples_split=2,\n",
              "                                        min_weight_fraction_leaf=0.0,\n",
              "                                        presort='deprecated', random_state=None,\n",
              "                                        splitter='best'))],\n",
              "         verbose=False)"
            ]
          },
          "metadata": {
            "tags": []
          },
          "execution_count": 67
        }
      ]
    },
    {
      "cell_type": "code",
      "metadata": {
        "colab": {
          "base_uri": "https://localhost:8080/"
        },
        "id": "3cMI23FPzgNG",
        "outputId": "aa3e6201-b8bf-45af-8271-c00ce268774a"
      },
      "source": [
        "pipeline.score(X_test, y_test)"
      ],
      "execution_count": 68,
      "outputs": [
        {
          "output_type": "execute_result",
          "data": {
            "text/plain": [
              "0.8078291814946619"
            ]
          },
          "metadata": {
            "tags": []
          },
          "execution_count": 68
        }
      ]
    },
    {
      "cell_type": "code",
      "metadata": {
        "id": "vgLYpVqS10AZ"
      },
      "source": [
        "#shows a plot that indicates how many times datapointshave been labeled. not very useful right now, but might be nice later on\n",
        "\n",
        "import matplotlib.pyplot as plt\n",
        "\n",
        "%matplotlib inline\n",
        "\n",
        "\n",
        "def plot_label_frequency(L):\n",
        "    plt.hist((L != ABSTAIN).sum(axis=1), density=True, bins=range(L.shape[1]))\n",
        "    plt.xlabel(\"Number of labels\")\n",
        "    plt.ylabel(\"Fraction of dataset\")\n",
        "    plt.show()\n",
        "\n",
        "\n",
        "plot_label_frequency(L_train)"
      ],
      "execution_count": null,
      "outputs": []
    },
    {
      "cell_type": "code",
      "metadata": {
        "id": "sazesI5y-yST"
      },
      "source": [
        "from snorkel.labeling.model import LabelModel\n",
        "\n",
        "label_model = LabelModel(cardinality=3, verbose=True)\n",
        "label_model.fit(L_train=L_train, n_epochs=500, log_freq=100, seed=123)"
      ],
      "execution_count": null,
      "outputs": []
    },
    {
      "cell_type": "code",
      "metadata": {
        "id": "leOpc9od-U0Y"
      },
      "source": [
        "\n",
        "from snorkel.labeling import filter_unlabeled_dataframe\n",
        "\n",
        "\n",
        "\n",
        "probs_train = label_model.predict_proba(L=L_train)\n",
        "\n",
        "df_train_filtered, probs_train_filtered = filter_unlabeled_dataframe(\n",
        "    X=df, y=probs_train, L=L_train\n",
        ")"
      ],
      "execution_count": null,
      "outputs": []
    },
    {
      "cell_type": "code",
      "metadata": {
        "id": "b3vSTPas_jBX"
      },
      "source": [
        "def plot_probabilities_histogram(Y):\n",
        "    plt.hist(Y, bins=10)\n",
        "    plt.xlabel(\"Probability of SPAM\")\n",
        "    plt.ylabel(\"Number of data points\")\n",
        "    plt.show()\n",
        "\n",
        "\n",
        "probs_train = label_model.predict_proba(L=L_train)"
      ],
      "execution_count": null,
      "outputs": []
    }
  ]
}